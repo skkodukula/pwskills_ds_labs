{
 "cells": [
  {
   "cell_type": "markdown",
   "id": "5ba8280e-baad-4bb0-a5fa-6d93cce7f24d",
   "metadata": {},
   "source": [
    "1. What is exeption in python? Write the difference between Execption and syntax errors."
   ]
  },
  {
   "cell_type": "markdown",
   "id": "f9e42339-5599-41e8-b494-4865a389e85c",
   "metadata": {},
   "source": [
    "An exception is an event, which occurs during the execution of a program that disrupts the normal flow of the program's instructions. In general, when a Python script encounters a situation that it cannot cope with, it raises an exception. An exception is a Python object that represents an error."
   ]
  },
  {
   "cell_type": "markdown",
   "id": "7a189a7b-d422-4010-ae8b-475615c94560",
   "metadata": {},
   "source": [
    "An error is an issue in a program that prevents the program from completing its task. In comparison, an exception is a condition that interrupts the normal flow of the program. Both errors and exceptions are a type of runtime error, which means they occur during the execution of a program."
   ]
  },
  {
   "cell_type": "markdown",
   "id": "eda7999d-697a-4f27-b00d-158b6e59c98b",
   "metadata": {},
   "source": [
    "2. What happens when an execption is not handled? Explain with an example."
   ]
  },
  {
   "cell_type": "markdown",
   "id": "772dbd90-b5b3-45d2-b8b6-5a9a080b4e0f",
   "metadata": {},
   "source": [
    "If the exception is not handled by an except clause, the exception is re-raised after the finally clause has been executed."
   ]
  },
  {
   "cell_type": "code",
   "execution_count": 1,
   "id": "caa86371-ddb0-42a5-9a86-196e7eea67e4",
   "metadata": {},
   "outputs": [
    {
     "ename": "SyntaxError",
     "evalue": "expected ':' (920996542.py, line 2)",
     "output_type": "error",
     "traceback": [
      "\u001b[0;36m  Cell \u001b[0;32mIn[1], line 2\u001b[0;36m\u001b[0m\n\u001b[0;31m    if a >3456\u001b[0m\n\u001b[0m              ^\u001b[0m\n\u001b[0;31mSyntaxError\u001b[0m\u001b[0;31m:\u001b[0m expected ':'\n"
     ]
    }
   ],
   "source": [
    "a=10000\n",
    "if a >3456\n",
    "print(\" amount\")"
   ]
  },
  {
   "cell_type": "code",
   "execution_count": 2,
   "id": "aa0c1bdd-6998-4566-9e0a-4613d014571b",
   "metadata": {},
   "outputs": [
    {
     "ename": "ZeroDivisionError",
     "evalue": "division by zero",
     "output_type": "error",
     "traceback": [
      "\u001b[0;31m---------------------------------------------------------------------------\u001b[0m",
      "\u001b[0;31mZeroDivisionError\u001b[0m                         Traceback (most recent call last)",
      "Cell \u001b[0;32mIn[2], line 2\u001b[0m\n\u001b[1;32m      1\u001b[0m a\u001b[38;5;241m=\u001b[39m\u001b[38;5;241m10\u001b[39m\n\u001b[0;32m----> 2\u001b[0m s\u001b[38;5;241m=\u001b[39m\u001b[43ma\u001b[49m\u001b[38;5;241;43m/\u001b[39;49m\u001b[38;5;241;43m0\u001b[39;49m\n",
      "\u001b[0;31mZeroDivisionError\u001b[0m: division by zero"
     ]
    }
   ],
   "source": [
    "a=10\n",
    "s=a/0"
   ]
  },
  {
   "cell_type": "code",
   "execution_count": 3,
   "id": "9bd7e2d8-6cbf-4091-80e6-31f5a5786ff9",
   "metadata": {},
   "outputs": [
    {
     "name": "stdin",
     "output_type": "stream",
     "text": [
      "enter  keerthi\n"
     ]
    },
    {
     "ename": "ValueError",
     "evalue": "invalid literal for int() with base 10: 'keerthi'",
     "output_type": "error",
     "traceback": [
      "\u001b[0;31m---------------------------------------------------------------------------\u001b[0m",
      "\u001b[0;31mValueError\u001b[0m                                Traceback (most recent call last)",
      "Cell \u001b[0;32mIn[3], line 1\u001b[0m\n\u001b[0;32m----> 1\u001b[0m a\u001b[38;5;241m=\u001b[39m\u001b[38;5;28;43mint\u001b[39;49m\u001b[43m(\u001b[49m\u001b[38;5;28;43minput\u001b[39;49m\u001b[43m(\u001b[49m\u001b[38;5;124;43m\"\u001b[39;49m\u001b[38;5;124;43menter \u001b[39;49m\u001b[38;5;124;43m\"\u001b[39;49m\u001b[43m)\u001b[49m\u001b[43m)\u001b[49m\n",
      "\u001b[0;31mValueError\u001b[0m: invalid literal for int() with base 10: 'keerthi'"
     ]
    }
   ],
   "source": [
    "a=int(input(\"enter \"))"
   ]
  },
  {
   "cell_type": "markdown",
   "id": "d0f50484-e7d5-4a3a-8e9d-6aa8a7b93014",
   "metadata": {},
   "source": [
    "3. Which python statement are used to catch and handle exceptions? Explain with an example."
   ]
  },
  {
   "cell_type": "markdown",
   "id": "bfd3fa76-e8c4-448c-a93e-e966a1a65c65",
   "metadata": {},
   "source": [
    "The try and except block in Python is used to catch and handle exceptions. Python executes code following the try statement as a “normal” part of the program. The code that follows the except statement is the program's response to any exceptions in the preceding try clause."
   ]
  },
  {
   "cell_type": "markdown",
   "id": "f903c035-9bc2-4e05-9c58-4f891b153be9",
   "metadata": {},
   "source": [
    "4. Explain with an example:\n",
    "    a. try and else\n",
    "    b.finally\n",
    "    c.raise"
   ]
  },
  {
   "cell_type": "code",
   "execution_count": 6,
   "id": "2ebb57fa-8593-4c82-91b9-06d274b13fe4",
   "metadata": {},
   "outputs": [
    {
     "name": "stdout",
     "output_type": "stream",
     "text": [
      "r\n",
      "executed\n",
      "dividing by zero\n",
      "executed\n"
     ]
    }
   ],
   "source": [
    "def divide(x,y):\n",
    "    try:\n",
    "        r= x//y\n",
    "    except ZeroDivisionError:\n",
    "        print(\"dividing by zero\")\n",
    "    else: \n",
    "        print(\"r\")\n",
    "    finally:\n",
    "        print(\"executed\")\n",
    "divide(10,5)\n",
    "divide(100,0)"
   ]
  },
  {
   "cell_type": "markdown",
   "id": "e57b01ec-974e-4a18-a536-0b17f15c3238",
   "metadata": {},
   "source": [
    "5. WHAT ARE CUSTOM EXECPTION IN PYTHON? WHYD DO WE NEED CUSTOM EXECPTION ? EXPLAIN WITH AN EXAMPLE."
   ]
  },
  {
   "cell_type": "markdown",
   "id": "aa06f4bf-f48e-44b0-a20f-9b6d97d653dd",
   "metadata": {},
   "source": [
    "Sometimes based on project requirement, a programmer needs to create his own exceptions and raise explicitly for corresponding scenarios. Such types of exceptions are called customized Exceptions or Programmatic Exceptions. We can raise a custom exception by using the keyword 'raise'."
   ]
  },
  {
   "cell_type": "markdown",
   "id": "bc6a4599-3869-4fca-96b1-b595db23cd30",
   "metadata": {},
   "source": [
    "Built-in exceptions offer information about Python-related problems, and custom exceptions will add information about project-related problems. That way, you can design your code (and traceback, if an exception is raised) in a way that combines Python code with the language of the project."
   ]
  },
  {
   "cell_type": "code",
   "execution_count": 10,
   "id": "6f644ca8-8945-42a5-9cf5-dd575a6597cb",
   "metadata": {},
   "outputs": [
    {
     "name": "stdin",
     "output_type": "stream",
     "text": [
      "enter the salary  89076\n"
     ]
    },
    {
     "ename": "SalaryNotInRange",
     "evalue": "salary is not in range(20000, 50000)",
     "output_type": "error",
     "traceback": [
      "\u001b[0;31m---------------------------------------------------------------------------\u001b[0m",
      "\u001b[0;31mSalaryNotInRange\u001b[0m                          Traceback (most recent call last)",
      "Cell \u001b[0;32mIn[10], line 15\u001b[0m\n\u001b[1;32m     13\u001b[0m salary\u001b[38;5;241m=\u001b[39m \u001b[38;5;28mint\u001b[39m(\u001b[38;5;28minput\u001b[39m(\u001b[38;5;124m\"\u001b[39m\u001b[38;5;124menter the salary \u001b[39m\u001b[38;5;124m\"\u001b[39m))\n\u001b[1;32m     14\u001b[0m \u001b[38;5;28;01mif\u001b[39;00m \u001b[38;5;129;01mnot\u001b[39;00m \u001b[38;5;241m20000\u001b[39m \u001b[38;5;241m<\u001b[39m salary \u001b[38;5;241m<\u001b[39m\u001b[38;5;241m50000\u001b[39m:\n\u001b[0;32m---> 15\u001b[0m     \u001b[38;5;28;01mraise\u001b[39;00m SalaryNotInRange(salary)\n",
      "\u001b[0;31mSalaryNotInRange\u001b[0m: salary is not in range(20000, 50000)"
     ]
    }
   ],
   "source": [
    "class SalaryNotInRange(Exception):\n",
    "    \"\"\" Eception raised for error in the input salary.\n",
    "    \n",
    "    Attributes:\n",
    "    salary -- input salary which caused the error\n",
    "    message -- explanation of the error\n",
    "    \"\"\"\n",
    "    def __init__(self,salary,message=\"salary is not in range(20000, 50000)\"):\n",
    "        self.salary=salary\n",
    "        self.message=message\n",
    "        super().__init__(self.message)\n",
    "        \n",
    "salary= int(input(\"enter the salary \"))\n",
    "if not 20000 < salary <50000:\n",
    "    raise SalaryNotInRange(salary)\n",
    "        "
   ]
  },
  {
   "cell_type": "markdown",
   "id": "9855c864-6318-40f0-a06c-cc1d346ab185",
   "metadata": {},
   "source": [
    "6. Create custom exception class. Use this class to handle an exception."
   ]
  },
  {
   "cell_type": "code",
   "execution_count": 13,
   "id": "b72a1201-9541-4d7f-ada3-9fd35825359a",
   "metadata": {},
   "outputs": [
    {
     "ename": "NotValidAge",
     "evalue": "Age should be greater than 18 years ",
     "output_type": "error",
     "traceback": [
      "\u001b[0;31m---------------------------------------------------------------------------\u001b[0m",
      "\u001b[0;31mNotValidAge\u001b[0m                               Traceback (most recent call last)",
      "Cell \u001b[0;32mIn[13], line 8\u001b[0m\n\u001b[1;32m      6\u001b[0m     \u001b[38;5;28;01mif\u001b[39;00m age \u001b[38;5;241m<\u001b[39m \u001b[38;5;241m18\u001b[39m :\n\u001b[1;32m      7\u001b[0m         \u001b[38;5;28;01mraise\u001b[39;00m NotValidAge\n\u001b[0;32m----> 8\u001b[0m \u001b[43mdriving_licence\u001b[49m\u001b[43m(\u001b[49m\u001b[38;5;241;43m11\u001b[39;49m\u001b[43m)\u001b[49m\n",
      "Cell \u001b[0;32mIn[13], line 7\u001b[0m, in \u001b[0;36mdriving_licence\u001b[0;34m(age)\u001b[0m\n\u001b[1;32m      5\u001b[0m \u001b[38;5;28;01mdef\u001b[39;00m \u001b[38;5;21mdriving_licence\u001b[39m(age):\n\u001b[1;32m      6\u001b[0m     \u001b[38;5;28;01mif\u001b[39;00m age \u001b[38;5;241m<\u001b[39m \u001b[38;5;241m18\u001b[39m :\n\u001b[0;32m----> 7\u001b[0m         \u001b[38;5;28;01mraise\u001b[39;00m NotValidAge\n",
      "\u001b[0;31mNotValidAge\u001b[0m: Age should be greater than 18 years "
     ]
    }
   ],
   "source": [
    "class NotValidAge(Exception):\n",
    "    \"\"\" raised when age is less than 18 \"\"\"\n",
    "    def __str__(self):\n",
    "        return \"Age should be greater than 18 years \"\n",
    "def driving_licence(age):\n",
    "    if age < 18 :\n",
    "        raise NotValidAge\n",
    "driving_licence(11)"
   ]
  },
  {
   "cell_type": "code",
   "execution_count": 14,
   "id": "78c2bc1b-6abc-454a-b352-0d4ffca45da1",
   "metadata": {},
   "outputs": [
    {
     "name": "stdin",
     "output_type": "stream",
     "text": [
      "enter the age 23\n"
     ]
    }
   ],
   "source": [
    "class NotValidAge(Exception):\n",
    "    \"\"\" raised when age is less than 18 \"\"\"\n",
    "    def __str__(self):\n",
    "        return \"Age should be greater than 18 years \"\n",
    "def driving_licence(age):\n",
    "    if age < 18 :\n",
    "        raise NotValidAge\n",
    "driving_licence=int(input(\"enter the age\"))"
   ]
  },
  {
   "cell_type": "code",
   "execution_count": null,
   "id": "3d00bac2-58c4-4870-a93d-e1a896a49889",
   "metadata": {},
   "outputs": [],
   "source": []
  }
 ],
 "metadata": {
  "kernelspec": {
   "display_name": "Python 3 (ipykernel)",
   "language": "python",
   "name": "python3"
  },
  "language_info": {
   "codemirror_mode": {
    "name": "ipython",
    "version": 3
   },
   "file_extension": ".py",
   "mimetype": "text/x-python",
   "name": "python",
   "nbconvert_exporter": "python",
   "pygments_lexer": "ipython3",
   "version": "3.10.8"
  }
 },
 "nbformat": 4,
 "nbformat_minor": 5
}
