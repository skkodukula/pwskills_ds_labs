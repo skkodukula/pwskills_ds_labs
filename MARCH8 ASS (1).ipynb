{
 "cells": [
  {
   "cell_type": "code",
   "execution_count": null,
   "id": "ac019d75-9eb0-40e0-bbe5-8ac246b4b740",
   "metadata": {},
   "outputs": [],
   "source": [
    "A Probability Density Function is a statistical expression used in probability theory as a way of representing the range of possible values of a continuous random variable. The area under the curve represents the interval of which a continuous random variable will fall, and the total area of the interval represents the probability that the variable will occur. The probability density function differs from a probability mass function that is used when calculating the probabilities of discrete random variables.\n",
    "\n"
   ]
  },
  {
   "cell_type": "markdown",
   "id": "4ed1e7b4-878e-4a5e-a6c2-9493b2fb9403",
   "metadata": {},
   "source": [
    "# Q2. What are the types of Probability distribution?"
   ]
  },
  {
   "cell_type": "code",
   "execution_count": null,
   "id": "de71d342-1400-4a6c-b567-c7c96d507d19",
   "metadata": {},
   "outputs": [],
   "source": [
    "1. Normal or Gaussion Distribution and it is belongs to (probability density function)\n",
    "2. Bernoulli Distribution function and it is belong to (probability mass function)-> outcomes are two { success, failure}\n",
    "3. Uniform distribution (pmf)\n",
    "4. Log normal distibution (pdf)\n",
    "5. Poission distibution (pmf)\n",
    "6. Power law distribution (pdf)-> this rule is also mentioned by 80-20 percent rule\n",
    "7.Binomial distribution (pmf)"
   ]
  },
  {
   "cell_type": "markdown",
   "id": "0bb22d33-f30c-4bd8-8578-b93854cc214d",
   "metadata": {},
   "source": [
    "# Q3. Write a Python function to calculate the probability density function of a normal distribution with\n",
    "given mean and standard deviation at a given point."
   ]
  },
  {
   "cell_type": "code",
   "execution_count": 16,
   "id": "358f994e-1c0f-4ecd-a3ba-f57c004ca81c",
   "metadata": {},
   "outputs": [],
   "source": [
    "from scipy.stats import norm\n",
    "import numpy as np\n",
    "import pandas as pd \n",
    "import matplotlib.pyplot as plt\n"
   ]
  },
  {
   "cell_type": "code",
   "execution_count": 19,
   "id": "2d8d06c2-d7a8-4a28-abe9-db4b87c1598a",
   "metadata": {},
   "outputs": [
    {
     "name": "stdout",
     "output_type": "stream",
     "text": [
      "0.08036119803038974\n"
     ]
    }
   ],
   "source": [
    "data_start=-5\n",
    "data_end=5\n",
    "data_points=10\n",
    "data=np.linspace(data_start,data_end,data_points)\n",
    "mean=np.mean(data)\n",
    "std=np.std(data)\n",
    "probability_pdf=norm.pdf(3,loc=mean,scale=std)\n",
    "print(probability_pdf)"
   ]
  },
  {
   "cell_type": "raw",
   "id": "9f83a510-fe88-4eab-88a8-8dbea5b8f14c",
   "metadata": {},
   "source": []
  },
  {
   "cell_type": "markdown",
   "id": "cdddfab4-bf1e-41ab-8c31-37eda316c5a5",
   "metadata": {},
   "source": [
    "# Q4. What are the properties of Binomial distribution? Give two examples of events where binomial distribution can be applied.\n"
   ]
  },
  {
   "cell_type": "code",
   "execution_count": null,
   "id": "1f4ed296-2ef7-45e4-9b5a-7ab722b6a829",
   "metadata": {},
   "outputs": [],
   "source": [
    "In probability theory and statastics, the bionomial distribution with parameters n and p is the discrete probability distribution of numbers \n",
    "of successes in a sequence of n independent experiments each asking a YES OR NO Question and each with its Boolean-valued outcome: success with (probability p) or failure with\n",
    "(probablity q=(1-p)). A single success/failure experiment is also called a bernomial trial or bernoulli experiment,and a sequence of outcome sis called \n",
    "Bernoulli process ; for a single trail ie., n=1, the bionomial distriution is a Bernoulli distribution.\n",
    " example : Tossing a coin \n",
    "    2. Number of successess in an experiment \n",
    "    3. Rolling a dice "
   ]
  },
  {
   "cell_type": "markdown",
   "id": "f7cb7457-474e-4c8d-945c-8281993af73a",
   "metadata": {},
   "source": [
    " # Q5. Generate a random sample of size 1000 from a binomial distribution with probability of success 0.4 and plot a histogram of the results using matplotlib.\n"
   ]
  },
  {
   "cell_type": "code",
   "execution_count": 3,
   "id": "3672c23f-9ffd-42ff-b423-cdb3e4fc6bfe",
   "metadata": {},
   "outputs": [],
   "source": [
    "from scipy.stats import binom\n",
    "import numpy as np \n",
    "import pandas as pd \n",
    "import matplotlib.pyplot as plt"
   ]
  },
  {
   "cell_type": "code",
   "execution_count": 4,
   "id": "cc5eaf4c-cc4d-4422-ba92-0cf623a6f249",
   "metadata": {},
   "outputs": [
    {
     "data": {
      "image/png": "[encoded data removed]",
      "text/plain": [
       "<Figure size 640x480 with 1 Axes>"
      ]
     },
     "metadata": {},
     "output_type": "display_data"
    }
   ],
   "source": [
    "n=1000\n",
    "p=0.4\n",
    "r_values=list(range(n+1))\n",
    "dist=[binom.pmf(r,n,p) for r in r_values ]\n",
    "plt.bar(r_values,dist)\n",
    "plt.show()"
   ]
  },
  {
   "cell_type": "markdown",
   "id": "ceedf742-eee4-496c-9fa1-6c88ffabcff0",
   "metadata": {},
   "source": [
    "# Q6. Write a Python function to calculate the cumulative distribution function of a Poisson distribution with given mean at a given point.\n"
   ]
  },
  {
   "cell_type": "code",
   "execution_count": 7,
   "id": "3c229ac5-a998-40ba-a0ac-410323efc38a",
   "metadata": {},
   "outputs": [],
   "source": [
    "from scipy.stats import poisson\n",
    "import numpy as np\n",
    "import pandas as pd\n",
    "import matplotlib.pyplot as plt"
   ]
  },
  {
   "cell_type": "code",
   "execution_count": 13,
   "id": "cb381844-3a4c-406a-b852-7a8fc8860b56",
   "metadata": {},
   "outputs": [
    {
     "data": {
      "text/plain": [
       "0.9711559444612627"
      ]
     },
     "execution_count": 13,
     "metadata": {},
     "output_type": "execute_result"
    }
   ],
   "source": [
    "x_cdf=poisson.cdf(k=21,mu=14)\n",
    "x_cdf.mean()"
   ]
  },
  {
   "cell_type": "code",
   "execution_count": 14,
   "id": "71c13fda-24f7-4636-940c-ad7c1b74bbc3",
   "metadata": {},
   "outputs": [
    {
     "data": {
      "text/plain": [
       "0.0"
      ]
     },
     "execution_count": 14,
     "metadata": {},
     "output_type": "execute_result"
    }
   ],
   "source": [
    "x_cdf=poisson.cdf(k=21,mu=14)\n",
    "x_cdf.var()"
   ]
  },
  {
   "cell_type": "markdown",
   "id": "baa378d2-7063-43ae-be66-c41daebd33cd",
   "metadata": {},
   "source": [
    "# Q7. How Binomial distribution different from Poisson distribution?"
   ]
  },
  {
   "cell_type": "markdown",
   "id": "adb639f2-185a-4c5b-bcea-c2f190131dba",
   "metadata": {},
   "source": [
    "Binomial distribution is the one in which the number of outcomes are only two, that is success or failure. Example of binomial distribution: Coin toss. Poisson distribution: Poisson distribution is the one in which the number of possible outcomes has no limits."
   ]
  },
  {
   "cell_type": "markdown",
   "id": "4b33caa4-9c5c-4ec6-ace9-5a0695f65502",
   "metadata": {},
   "source": [
    "# Binomial distribution describes the distribution of binary data from a finite sample. Thus it gives the probability of getting r events out of n trials. Poisson distribution describes the distribution of binary data from an infinite sample. Thus it gives the probability of getting r events in a population."
   ]
  },
  {
   "cell_type": "markdown",
   "id": "3646f870-4a19-4926-87b7-1ad1a17e40d4",
   "metadata": {},
   "source": [
    "# Q8. Generate a random sample of size 1000 from a Poisson distribution with mean 5 and calculate the\n",
    "  # sample mean and variance."
   ]
  },
  {
   "cell_type": "code",
   "execution_count": 4,
   "id": "7ff74d02-7489-4a51-b7b6-be42c8bc21c2",
   "metadata": {},
   "outputs": [],
   "source": [
    "from scipy.stats import poisson\n",
    "import numpy as np\n",
    "import pandas as pd \n",
    "import matplotlib.pyplot as plt"
   ]
  },
  {
   "cell_type": "code",
   "execution_count": 6,
   "id": "59bb7a57-5e45-443d-a8e9-0316967bf210",
   "metadata": {},
   "outputs": [
    {
     "data": {
      "text/plain": [
       "4.931"
      ]
     },
     "execution_count": 6,
     "metadata": {},
     "output_type": "execute_result"
    }
   ],
   "source": [
    "x_rvs=poisson.rvs(5,size=1000)\n",
    "x_rvs.mean()"
   ]
  },
  {
   "cell_type": "code",
   "execution_count": 8,
   "id": "2c22057c-bb53-4378-9702-38883eb9b51f",
   "metadata": {},
   "outputs": [
    {
     "data": {
      "text/plain": [
       "4.909671000000001"
      ]
     },
     "execution_count": 8,
     "metadata": {},
     "output_type": "execute_result"
    }
   ],
   "source": [
    "x_rvs=poisson.rvs(5,size=1000)\n",
    "x_rvs.var()"
   ]
  },
  {
   "cell_type": "markdown",
   "id": "8b155c25-b748-4f95-8337-49bc4809d69a",
   "metadata": {},
   "source": [
    "# Q9. How mean and variance are related in Binomial distribution and Poisson distribution?"
   ]
  },
  {
   "cell_type": "markdown",
   "id": "3b8c1dfb-5f6b-4210-bad5-6ab24265307f",
   "metadata": {},
   "source": [
    " The mean of the binomial distribution is always equal to p, and the variance is always equal to pq/N.\n",
    " The mean and the variance of the Poisson distribution are the same, which is equal to the average number of successes that occur in the given interval of time."
   ]
  },
  {
   "cell_type": "markdown",
   "id": "2c3e10bc-a152-46a6-9bf1-031d8199ad12",
   "metadata": {},
   "source": [
    "# Q10. In normal distribution with respect to mean position, where does the least frequent data appear?"
   ]
  },
  {
   "cell_type": "markdown",
   "id": "d17bba64-3199-41c6-944f-b4351ecc57ef",
   "metadata": {},
   "source": [
    "In normal distribution the mean is zero and the standard deviation is 1."
   ]
  },
  {
   "cell_type": "code",
   "execution_count": null,
   "id": "dc94b0df-abb0-4911-b5af-9348c941bb40",
   "metadata": {},
   "outputs": [],
   "source": []
  }
 ],
 "metadata": {
  "kernelspec": {
   "display_name": "Python 3 (ipykernel)",
   "language": "python",
   "name": "python3"
  },
  "language_info": {
   "codemirror_mode": {
    "name": "ipython",
    "version": 3
   },
   "file_extension": ".py",
   "mimetype": "text/x-python",
   "name": "python",
   "nbconvert_exporter": "python",
   "pygments_lexer": "ipython3",
   "version": "3.10.8"
  }
 },
 "nbformat": 4,
 "nbformat_minor": 5
}
