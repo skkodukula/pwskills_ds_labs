{
 "cells": [
  {
   "cell_type": "markdown",
   "id": "53319929-6ac8-4487-8715-30c015de5f60",
   "metadata": {},
   "source": [
    "Q1. Write a Python program that defines a function called \"add_numbers\" that takes two arguments (i.e.,\n",
    "numbers) and returns their sum. Within the function, add the two numbers together and return the result\n",
    "using the return statement. Call the function with the values 5 and 6, and print out the returned result.\n",
    "This will result in the addition of 5 and 6, with the output of the program being the sum of these two\n",
    "numbers."
   ]
  },
  {
   "cell_type": "code",
   "execution_count": 1,
   "id": "f1edc5df-ea0f-4a75-bb0a-0a7a1631cc0c",
   "metadata": {},
   "outputs": [
    {
     "name": "stdout",
     "output_type": "stream",
     "text": [
      "sum of 5 and6 is 11\n"
     ]
    }
   ],
   "source": [
    "def add (a,b):\n",
    "    return a+b\n",
    "num1=5\n",
    "num2=6\n",
    "sum_of_twonumbers=add(num1,num2)\n",
    "print(\"sum of {0} and{1} is {2}\".format(num1,num2,sum_of_twonumbers))"
   ]
  },
  {
   "cell_type": "markdown",
   "id": "838c5398-29f4-434b-893d-b8d9ff78663b",
   "metadata": {},
   "source": [
    "Q2. Write a Python program that calculates the square root of a given number using a built-in function.\n",
    "Specifically, the program should take an integer or float input from the user, calculate its square root\n",
    "using the 'sqrt()' function from the 'math' module, and print out the result to the user. As an example,\n",
    "calculate the square root of the number 625 using this program, which should output the value of 25."
   ]
  },
  {
   "cell_type": "code",
   "execution_count": 2,
   "id": "51b75847-2edb-4f5f-82c4-f011dda6f928",
   "metadata": {},
   "outputs": [
    {
     "name": "stdout",
     "output_type": "stream",
     "text": [
      "3.0\n"
     ]
    }
   ],
   "source": [
    "import math \n",
    "print(math.sqrt(9))"
   ]
  },
  {
   "cell_type": "code",
   "execution_count": 3,
   "id": "57b77d9b-54b9-47fa-bce0-b2bff8a1ceea",
   "metadata": {},
   "outputs": [
    {
     "name": "stdout",
     "output_type": "stream",
     "text": [
      "25.0\n"
     ]
    }
   ],
   "source": [
    "print(math.sqrt(625))"
   ]
  },
  {
   "cell_type": "code",
   "execution_count": 4,
   "id": "85e5a9cd-f2ea-4640-9651-2827c69ab83b",
   "metadata": {},
   "outputs": [
    {
     "name": "stdout",
     "output_type": "stream",
     "text": [
      "34.64101615137755\n"
     ]
    }
   ],
   "source": [
    "print(math.sqrt(1200))\n"
   ]
  },
  {
   "cell_type": "code",
   "execution_count": 5,
   "id": "63d5bbb6-bfb5-46c6-98f7-af139ab7ce25",
   "metadata": {},
   "outputs": [
    {
     "name": "stdout",
     "output_type": "stream",
     "text": [
      "173.20508075688772\n"
     ]
    }
   ],
   "source": [
    "print(math.sqrt(30000))"
   ]
  },
  {
   "cell_type": "markdown",
   "id": "b1d7e2a3-0c2d-4c1a-a652-0d2299bd002d",
   "metadata": {},
   "source": [
    "Q3.Write a program that prints all prime numbers between 0 to 50."
   ]
  },
  {
   "cell_type": "code",
   "execution_count": 6,
   "id": "28738fae-4259-49b8-bacd-1cb7eabe541d",
   "metadata": {},
   "outputs": [
    {
     "name": "stdout",
     "output_type": "stream",
     "text": [
      "2,3,5,7,11,13,17,19,23,29,31,37,41,43,47,"
     ]
    }
   ],
   "source": [
    "for i in range (2,51):\n",
    "    for j in range(2,51):\n",
    "        if (i%j==0):\n",
    "            break\n",
    "    if i == j :\n",
    "            print(i,end=',')\n",
    "        \n",
    "    \n",
    "        \n",
    "    "
   ]
  },
  {
   "cell_type": "code",
   "execution_count": 11,
   "id": "9d9c20c3-2ca7-43be-a8d0-2e2ec68043ba",
   "metadata": {},
   "outputs": [
    {
     "name": "stdout",
     "output_type": "stream",
     "text": [
      "2,3,5,7,11,13,17,19,23,29,31,37,41,43,47,"
     ]
    }
   ],
   "source": [
    "i=2\n",
    "while i<=50:\n",
    "    j=2\n",
    "    while j<50:\n",
    "        if i%j==0:\n",
    "            break\n",
    "        j += 1\n",
    "    if i==j:\n",
    "        print(i,end=',')\n",
    "    i += 1\n",
    "        \n",
    "    \n",
    "        "
   ]
  },
  {
   "cell_type": "code",
   "execution_count": 3,
   "id": "924ca6c8-9447-4978-8b98-6d5b879511ec",
   "metadata": {},
   "outputs": [
    {
     "name": "stdin",
     "output_type": "stream",
     "text": [
      "enter the number: 50\n"
     ]
    },
    {
     "name": "stdout",
     "output_type": "stream",
     "text": [
      "[2, 3, 5, 7, 11, 13, 17, 19, 23, 29, 31, 37, 41, 43, 47]\n"
     ]
    }
   ],
   "source": [
    "def prime_range(n):\n",
    "    prime=[]\n",
    "    for i in range(2,n+1):\n",
    "        for j in range(2,n+1):\n",
    "            if(i%j==0):\n",
    "                break\n",
    "        if (i==j):\n",
    "            prime.append(i)\n",
    "    return prime\n",
    "n=int(input(\"enter the number:\"))\n",
    "print(prime_range(n))\n"
   ]
  },
  {
   "cell_type": "markdown",
   "id": "ad42b3ec-e1e5-4135-a0f3-06523ef38c18",
   "metadata": {},
   "source": [
    "Q4.How can we swap the values of three variables (let's say a, b, and c) without using a fourth variable?\n",
    "For example, if we have a=5, b=8, and c=9, how can we obtain a=9, b=5, and c=8? The challenge is to\n",
    "perform this operation without using an additional variable to store any of the values during the\n",
    "swapping process."
   ]
  },
  {
   "cell_type": "code",
   "execution_count": 13,
   "id": "c92206ab-f87c-4b02-90bd-a3fb5b3f867f",
   "metadata": {},
   "outputs": [
    {
     "name": "stdout",
     "output_type": "stream",
     "text": [
      "before swapping a= 90 ,b= 80 ,c= 60\n",
      "after swaping a= 60 ,b= 90  ,c= 80\n"
     ]
    }
   ],
   "source": [
    "def swapThree(a,b,c):\n",
    "    a=a+b+c\n",
    "    b=a-(b+c)\n",
    "    c=a-(b+c)\n",
    "    a=a-(b+c)\n",
    "    print(\"after swaping a=\",a,\",b=\",b,\" ,c=\",c)\n",
    "if __name__=='__main__':\n",
    "    a=90\n",
    "    b=80\n",
    "    c=60\n",
    "    print(\"before swapping a=\",a,\",b=\",b,\",c=\",c)\n",
    "    swapThree(a,b,c)\n",
    "\n",
    "    \n",
    "    \n",
    "\n",
    "    "
   ]
  },
  {
   "cell_type": "markdown",
   "id": "d932bca3-2d36-4d58-b000-b093172782fe",
   "metadata": {},
   "source": [
    "Q5. Can you write a program that determines the nature of a given number (in this case, 87) as being\n",
    "positive, negative, or zero? The program should be designed to take the number as input and perform the\n",
    "necessary calculations to determine if the number is positive (i.e., greater than zero), negative (i.e., less\n",
    "than zero), or zero (i.e., equal to zero). The output of the program should indicate which of these three\n",
    "categories the given number falls into."
   ]
  },
  {
   "cell_type": "code",
   "execution_count": 14,
   "id": "a1fc660a-f53b-4095-a0cf-aaea4f951148",
   "metadata": {},
   "outputs": [
    {
     "name": "stdin",
     "output_type": "stream",
     "text": [
      "enter the number: 24\n"
     ]
    },
    {
     "name": "stdout",
     "output_type": "stream",
     "text": [
      "the number is positve\n"
     ]
    }
   ],
   "source": [
    "n=int(input(\"enter the number:\"))\n",
    "\n",
    "if n>0:\n",
    "    print(\"the number is positve\")\n",
    "elif n<0:\n",
    "    print(\"the number is negative\")\n",
    "else :\n",
    "    print(\"the number is equal to zero\")\n",
    "      \n",
    "      \n",
    "      "
   ]
  },
  {
   "cell_type": "markdown",
   "id": "0221a718-5b8f-4769-97ae-479e03c3e2a5",
   "metadata": {},
   "source": [
    "Q6. How can you create a program that determines whether a given number (in this case, 98) is even or\n",
    "odd? The program should be designed to take the number as input and perform the necessary\n",
    "calculations to determine whether it is divisible by two. If the number is divisible by two without leaving a\n",
    "remainder, it is an even number, and if there is a remainder, it is an odd number. The output of the\n",
    "program should indicate whether the given number is even or odd."
   ]
  },
  {
   "cell_type": "code",
   "execution_count": 15,
   "id": "75e2662f-9880-4bb7-bc4a-015897e36448",
   "metadata": {},
   "outputs": [
    {
     "name": "stdin",
     "output_type": "stream",
     "text": [
      "enter the number: 87\n"
     ]
    },
    {
     "name": "stdout",
     "output_type": "stream",
     "text": [
      "number is odd \n"
     ]
    }
   ],
   "source": [
    "n=int(input(\"enter the number:\"))\n",
    "if n%2==0:\n",
    "    print(\"number is even\")\n",
    "else :\n",
    "    print(\"number is odd \")"
   ]
  },
  {
   "cell_type": "markdown",
   "id": "8cada9e6-9e8f-45a1-9a9a-d1e1d574754b",
   "metadata": {},
   "source": [
    "Q7.Write a program for sum of digits.the digits are 76543 and the output should be 25."
   ]
  },
  {
   "cell_type": "code",
   "execution_count": 16,
   "id": "2dd4106d-0ea7-4f78-9d5a-809c3ecce349",
   "metadata": {},
   "outputs": [
    {
     "name": "stdout",
     "output_type": "stream",
     "text": [
      "sum of given number 25\n"
     ]
    }
   ],
   "source": [
    "n=76543\n",
    "x=n//10000\n",
    "x1=(n-x*10000)//1000\n",
    "x2=(n-x*10000-x1*1000)//100\n",
    "x3=(n-x*10000-x1*1000-x2*100)//10\n",
    "x4=n-x*10000-x1*1000-x2*100-x3*10\n",
    "print(\"sum of given number\",x+x1+x2+x3+x4)\n",
    "\n"
   ]
  },
  {
   "cell_type": "code",
   "execution_count": 17,
   "id": "a29eee24-4d10-45bf-9023-7695f755b869",
   "metadata": {},
   "outputs": [
    {
     "name": "stdout",
     "output_type": "stream",
     "text": [
      "25\n"
     ]
    }
   ],
   "source": [
    "def getsum(n):\n",
    "    sum=0\n",
    "    for i in str(n):\n",
    "        sum+=int(i)\n",
    "    return sum\n",
    "n=76543\n",
    "print(getsum(n))\n",
    "\n"
   ]
  },
  {
   "cell_type": "code",
   "execution_count": 1,
   "id": "6218631f-9041-49d3-91e8-7ebc8194ec88",
   "metadata": {},
   "outputs": [
    {
     "name": "stdin",
     "output_type": "stream",
     "text": [
      "enter the number 14587\n"
     ]
    },
    {
     "name": "stdout",
     "output_type": "stream",
     "text": [
      "25\n"
     ]
    }
   ],
   "source": [
    "def getsum(n):\n",
    "    sum=0\n",
    "    while (n!=0):\n",
    "        sum=sum+(n%10)\n",
    "        n=n//10\n",
    "    return sum\n",
    "n=int(input(\"enter the number\"))\n",
    "print(getsum(n))\n",
    "      \n",
    "    \n"
   ]
  },
  {
   "cell_type": "markdown",
   "id": "7cf7b117-ef3c-4ea3-9bcd-c2ed4a25316c",
   "metadata": {},
   "source": [
    "Q8.Write a program for reversing the given number 5436 and the output should be 6345."
   ]
  },
  {
   "cell_type": "code",
   "execution_count": 5,
   "id": "0e0fad0f-0be2-4d7e-8587-fe6991c371fc",
   "metadata": {},
   "outputs": [
    {
     "name": "stdout",
     "output_type": "stream",
     "text": [
      "n1 is 4569876345\n"
     ]
    }
   ],
   "source": [
    "n=5436789654\n",
    "n1=0\n",
    "while n!=0:\n",
    "    n2=n%10\n",
    "    n1=n1*10+n2\n",
    "    n=n//10\n",
    "print(\"n1 is\", n1)\n"
   ]
  },
  {
   "cell_type": "code",
   "execution_count": 9,
   "id": "0acf5567-e2f3-45db-873d-f5a903ac684b",
   "metadata": {},
   "outputs": [
    {
     "name": "stdout",
     "output_type": "stream",
     "text": [
      "79547845\n"
     ]
    }
   ],
   "source": [
    "n=54874597\n",
    "print(str(n)[::-1])\n"
   ]
  },
  {
   "cell_type": "markdown",
   "id": "868137b7-2b81-4c04-88a5-d386ee78826f",
   "metadata": {},
   "source": [
    "Q9.Write a program to check if a given number 371 is an Armstrong number?"
   ]
  },
  {
   "cell_type": "code",
   "execution_count": 12,
   "id": "e4064100-c9bd-424b-a4f9-3b1df6baa543",
   "metadata": {},
   "outputs": [
    {
     "name": "stdin",
     "output_type": "stream",
     "text": [
      "enter the number: 469\n"
     ]
    },
    {
     "name": "stdout",
     "output_type": "stream",
     "text": [
      "n is not armstrong number\n"
     ]
    }
   ],
   "source": [
    "n=int(input(\"enter the number:\"))\n",
    "l1=len(str(n))\n",
    "sum=0\n",
    "temp=n\n",
    "while temp>0:\n",
    "    l2=temp%10\n",
    "    sum+=l2**l1\n",
    "    temp//=10\n",
    "if sum==n:\n",
    "    print(\"n is armstrong number\")\n",
    "else :\n",
    "    print(\"n is not armstrong number\")\n",
    "\n",
    "    \n",
    "      "
   ]
  },
  {
   "cell_type": "markdown",
   "id": "56476781-31f1-47d4-a1c3-e480565bb829",
   "metadata": {},
   "source": [
    "Q10.Write a program the given year is 1996, a leap year."
   ]
  },
  {
   "cell_type": "code",
   "execution_count": 15,
   "id": "2f29cfaa-20dc-48f8-a1be-750941ba502e",
   "metadata": {},
   "outputs": [
    {
     "name": "stdin",
     "output_type": "stream",
     "text": [
      "enter the year: 2024\n"
     ]
    },
    {
     "name": "stdout",
     "output_type": "stream",
     "text": [
      "2024 is a leap year:\n"
     ]
    }
   ],
   "source": [
    "year=int(input(\"enter the year:\"))\n",
    "if (year%400==0) and (year%100==0):\n",
    "    print(\"{0} is a leap year:\".format(year))\n",
    "elif (year%4==0) and (year%100!=0):\n",
    "    print(\"{0} is a leap year:\".format(year))\n",
    "else :\n",
    "     print(\"{0} is a  not a leap year:\".format(year))\n",
    "    \n",
    "    \n"
   ]
  },
  {
   "cell_type": "code",
   "execution_count": null,
   "id": "6ad34371-c53b-4be3-82db-4836797a6f63",
   "metadata": {},
   "outputs": [],
   "source": []
  }
 ],
 "metadata": {
  "kernelspec": {
   "display_name": "Python 3 (ipykernel)",
   "language": "python",
   "name": "python3"
  },
  "language_info": {
   "codemirror_mode": {
    "name": "ipython",
    "version": 3
   },
   "file_extension": ".py",
   "mimetype": "text/x-python",
   "name": "python",
   "nbconvert_exporter": "python",
   "pygments_lexer": "ipython3",
   "version": "3.10.8"
  }
 },
 "nbformat": 4,
 "nbformat_minor": 5
}
