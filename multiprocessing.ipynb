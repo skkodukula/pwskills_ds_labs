{
 "cells": [
  {
   "cell_type": "markdown",
   "id": "8ee76338-8503-4b82-8e1a-6f184ceebc53",
   "metadata": {},
   "source": [
    "Q1. What is multiprocessing in python? Why is it useful?"
   ]
  },
  {
   "cell_type": "markdown",
   "id": "466945e1-fa0f-4f0c-a153-0e3a06aa378a",
   "metadata": {},
   "source": [
    "multiprocessing is a package that supports spawning processes using an API similar to the threading module. The multiprocessing package offers both local and remote concurrency, effectively side-stepping the Global Interpreter Lock by using subprocesses instead of threads."
   ]
  },
  {
   "cell_type": "markdown",
   "id": "dafad839-2bac-4a1a-9158-0cd0129db265",
   "metadata": {},
   "source": [
    "Multiprocessing helps in performing parallel computing. There are several processors in a system, and each of them can run multiple processes simultaneously. The system's throughput will be significantly increased as a result of this. Parallel computing is performed by multiprocessing."
   ]
  },
  {
   "cell_type": "markdown",
   "id": "96e8f275-9ba6-4974-a1b4-a7ca28cd0242",
   "metadata": {},
   "source": [
    "Q2. What are the differences between multiprocessing and multithreading?"
   ]
  },
  {
   "cell_type": "markdown",
   "id": "0592cb9b-457b-4c6b-98bc-34a941958ac1",
   "metadata": {},
   "source": [
    " Multithreading refers to the ability of a processor to execute multiple threads concurrently, where each thread runs a process. Whereas multiprocessing refers to the ability of a system to run multiple processors concurrently, where each processor can run one or more threads."
   ]
  },
  {
   "cell_type": "markdown",
   "id": "d09a7f89-da03-4c20-b865-c4554c72120a",
   "metadata": {},
   "source": [
    "Q3. Write a python code to create a process using the multiprocessing module."
   ]
  },
  {
   "cell_type": "code",
   "execution_count": 5,
   "id": "b3cfdbe9-5542-4a13-b22b-9ddc438ef2ec",
   "metadata": {},
   "outputs": [
    {
     "name": "stdout",
     "output_type": "stream",
     "text": [
      "cube:27000\n",
      "square:100\n",
      "k\n"
     ]
    }
   ],
   "source": [
    "import multiprocessing\n",
    "\n",
    "def print_cube(n):\n",
    "    print(\"cube:{}\".format(n*n*n))\n",
    "def print_square(n):\n",
    "    print(\"square:{}\".format(n*n))\n",
    "if __name__ == '__main__':\n",
    "                \n",
    "                m1=multiprocessing.Process(target=print_cube, args=(30,))\n",
    "                m2=multiprocessing.Process(target=print_square, args=(10,))\n",
    "                m1.start()\n",
    "                m2.start()\n",
    "                m1.join()\n",
    "                m2.join()\n",
    "                print(\"k\")\n",
    "        \n",
    "          "
   ]
  },
  {
   "cell_type": "markdown",
   "id": "3fc89321-1e39-44c8-b5d2-4f68af768038",
   "metadata": {},
   "source": [
    "Q4. What is a multiprocessing pool in python? Why is it used?"
   ]
  },
  {
   "cell_type": "markdown",
   "id": "f6579828-474d-482d-8aa5-5b440004513c",
   "metadata": {},
   "source": [
    "Python multiprocessing Pool can be used for parallel execution of a function across multiple input values, distributing the input data across processes (data parallelism)."
   ]
  },
  {
   "cell_type": "markdown",
   "id": "811449cd-4c66-4304-94c4-ac20111308ca",
   "metadata": {},
   "source": [
    "Q5. How can we create a pool of worker processes in python using the multiprocessing module?"
   ]
  },
  {
   "cell_type": "markdown",
   "id": "838171b2-80fb-49eb-9b14-d6195fe57a43",
   "metadata": {},
   "source": [
    "A process pool is a programming pattern for automatically managing a pool of worker processes.\n",
    "\n",
    "The pool is responsible for a fixed number of processes.\n",
    "\n",
    "It controls when they are created, such as when they are needed.\n",
    "It also controls what they should do when they are not being used, such as making them wait without consuming computational resources.\n",
    "The pool can provide a generic interface for executing ad hoc tasks with a variable number of arguments, much like the target property on the Process object, but does not require that we choose a process to run the task, start the process, or wait for the task to complete.\n",
    "\n",
    "Python provides a process pool via the multiprocessing.Pool class."
   ]
  },
  {
   "cell_type": "markdown",
   "id": "edab1401-8c11-4579-9196-d15287e158df",
   "metadata": {},
   "source": [
    "Q6. Write a python program to create 4 processes, each process should print a different number using the\n",
    "multiprocessing module in python."
   ]
  },
  {
   "cell_type": "code",
   "execution_count": 18,
   "id": "8ad4217d-47aa-4eeb-bf5a-5a4653c44167",
   "metadata": {},
   "outputs": [
    {
     "name": "stdout",
     "output_type": "stream",
     "text": [
      "0 1 2 3 4 5 6 7 8 9 "
     ]
    }
   ],
   "source": [
    "import multiprocessing\n",
    "from multiprocessing import Process\n",
    "\n",
    "def diff_numbers(num):\n",
    "    for i in range (num):\n",
    "         print(i,end=' ')\n",
    "if __name__ == '__main__':\n",
    "        m1=multiprocessing.Process(target=diff_numbers, args=(10,))\n",
    "        m1.start()\n",
    "        m1.join()\n",
    "        \n",
    "            \n",
    "        \n",
    "    "
   ]
  },
  {
   "cell_type": "code",
   "execution_count": null,
   "id": "96eb823f-8500-4490-968b-37e46d6ec18f",
   "metadata": {},
   "outputs": [],
   "source": []
  }
 ],
 "metadata": {
  "kernelspec": {
   "display_name": "Python 3 (ipykernel)",
   "language": "python",
   "name": "python3"
  },
  "language_info": {
   "codemirror_mode": {
    "name": "ipython",
    "version": 3
   },
   "file_extension": ".py",
   "mimetype": "text/x-python",
   "name": "python",
   "nbconvert_exporter": "python",
   "pygments_lexer": "ipython3",
   "version": "3.10.8"
  }
 },
 "nbformat": 4,
 "nbformat_minor": 5
}
