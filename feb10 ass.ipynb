{
 "cells": [
  {
   "cell_type": "markdown",
   "id": "d10054e4-4464-4c3c-8cb8-861473557e20",
   "metadata": {},
   "source": [
    "Q1. Which function is used to open a file? What are the different modes of opening a file? Explain each mode\n",
    "of file opening."
   ]
  },
  {
   "cell_type": "markdown",
   "id": "3b3d2ac1-985a-441d-83a1-6212a82bbd3e",
   "metadata": {},
   "source": [
    "There are many modes for opening a file: r - open a file in read mode. w - opens or create a text file in write mode. a - opens a file in append mode."
   ]
  },
  {
   "cell_type": "markdown",
   "id": "6858b8ea-a11c-413a-95a4-1ecfefc936bd",
   "metadata": {},
   "source": [
    "Q2. Why close() function is used? Why is it important to close a file?"
   ]
  },
  {
   "cell_type": "markdown",
   "id": "31880394-ab3c-4554-9986-d73a704fe2b9",
   "metadata": {},
   "source": [
    "The close() method closes an open file. You should always close your files, in some cases, due to buffering, changes made to a file may not show until you close the file. this minimizes the amount of user virtual machine resources required and helps keep shared files and \n",
    "directories available for other users. closing a file means logically disconnecting it from application program."
   ]
  },
  {
   "cell_type": "markdown",
   "id": "85341981-088c-4515-ac46-4a99fc0be5e4",
   "metadata": {},
   "source": [
    "Q3. Write a python program to create a text file. Write ‘I want to become a Data Scientist’ in that file. Then\n",
    "close the file. Open this file and read the content of the file."
   ]
  },
  {
   "cell_type": "code",
   "execution_count": 2,
   "id": "e8cf6577-6faa-4394-add4-b6d88b2374cc",
   "metadata": {},
   "outputs": [],
   "source": [
    "file1=open(\"My file.txt\",\"a\")\n",
    "file1.close()"
   ]
  },
  {
   "cell_type": "code",
   "execution_count": 5,
   "id": "de606e38-41ac-4841-a407-f7975cba33ab",
   "metadata": {},
   "outputs": [
    {
     "name": "stdout",
     "output_type": "stream",
     "text": [
      "I want to become a Data scientist\n",
      "\n"
     ]
    }
   ],
   "source": [
    "file1=open(\"My file.txt\",\"w\")\n",
    "k=[\"I want to become a Data scientist\"]\n",
    "file1.writelines(k)\n",
    "file1.close()\n",
    "file1 =open(\"My file.txt\",\"r+\")\n",
    "print(file1.read())\n",
    "print()"
   ]
  },
  {
   "cell_type": "markdown",
   "id": "07d520bb-4867-43c5-8ebe-6d91c21b5cf4",
   "metadata": {},
   "source": [
    "Q4. Explain the following with python code: read(), readline() and readlines()."
   ]
  },
  {
   "cell_type": "code",
   "execution_count": 7,
   "id": "e48f6636-48be-47fe-9c63-6edf640fd134",
   "metadata": {},
   "outputs": [
    {
     "name": "stdout",
     "output_type": "stream",
     "text": [
      "i1: I\n",
      "i2: am\n",
      "i3: a\n",
      "i4: good\n",
      "i5: girl\n"
     ]
    }
   ],
   "source": [
    "k=[\"I\\n\",\"am\\n\",\"a\\n\",\"good\\n\",\"girl\\n\"]\n",
    "file1=open('myfile.txt','w')\n",
    "file1.writelines(k)\n",
    "file1.close()\n",
    "file1=open('myfile.txt','r')\n",
    "l=file1.readlines()\n",
    "count=0\n",
    "for i in l:\n",
    "    count += 1\n",
    "    print(\"i{}: {}\".format(count, i.strip()))"
   ]
  },
  {
   "cell_type": "code",
   "execution_count": 10,
   "id": "5f4040f0-401e-420b-890c-40de0b5d0e8b",
   "metadata": {},
   "outputs": [
    {
     "name": "stdout",
     "output_type": "stream",
     "text": [
      "l1: I\n",
      "l2: am\n",
      "l3: a\n",
      "l4: good\n",
      "l5: girl\n"
     ]
    }
   ],
   "source": [
    "k=[\"I\\n\",\"am\\n\",\"a\\n\",\"good\\n\",\"girl\\n\"]\n",
    "file1=open('myfile.txt','w')\n",
    "file1.writelines(k)\n",
    "file1.close()\n",
    "file1=open('myfile.txt','r')\n",
    "count=0\n",
    "while True :\n",
    "    count += 1\n",
    "    l=file1.readline()\n",
    "    if not l:\n",
    "        break\n",
    "    print(\"l{}: {}\".format(count,l.strip()))\n",
    "file1.close()\n",
    "\n"
   ]
  },
  {
   "cell_type": "code",
   "execution_count": 12,
   "id": "00f46412-57b7-42fd-8ea8-8124dd98bdb0",
   "metadata": {},
   "outputs": [
    {
     "name": "stdout",
     "output_type": "stream",
     "text": [
      "i0: I\n",
      "i0: am\n",
      "i0: a\n",
      "i0: good\n",
      "i0: girl\n"
     ]
    }
   ],
   "source": [
    "k=[\"I\\n\",\"am\\n\",\"a\\n\",\"good\\n\",\"girl\\n\"]\n",
    "file1=open('myfile.txt','w')\n",
    "file1.writelines(k)\n",
    "file1.close()\n",
    "file1=open('myfile.txt','r')\n",
    "count=0\n",
    "for i in file1:\n",
    "    count +=0\n",
    "    print(\"i{}: {}\".format(count,i.strip()))\n",
    "file1.close()"
   ]
  },
  {
   "cell_type": "markdown",
   "id": "98df2b9c-9595-4519-b17f-0e98c966a30e",
   "metadata": {},
   "source": [
    "Q5. Explain why with statement is used with open(). What is the advantage of using with statement and\n",
    "open() together?"
   ]
  },
  {
   "cell_type": "markdown",
   "id": "0a9e2a70-095e-4fa6-ab7f-be45faf41e14",
   "metadata": {},
   "source": [
    "The with statement works with the open() function to open a file. Unlike open() where you have to close the file with the close() method, the with statement closes the file for you without you telling it to. This is because the with statement calls 2 built-in methods behind the scene – __enter()__ and __exit()__ ."
   ]
  },
  {
   "cell_type": "markdown",
   "id": "192fee91-bc7a-47bf-af5d-47d81f586dcc",
   "metadata": {},
   "source": [
    "Opening files using the with statement is generally recommended because it ensures that open file descriptors are automatically closed after the flow of execution leaves the with code block. As you saw before, the most common way to open a file using with is through the built-in open() : with open(\"hello."
   ]
  },
  {
   "cell_type": "markdown",
   "id": "260fd350-2827-44e7-b9b3-0a357a75d01b",
   "metadata": {},
   "source": [
    "Q6. Explain the write() and writelines() functions. Give a suitable example."
   ]
  },
  {
   "cell_type": "code",
   "execution_count": 15,
   "id": "f5f8cfb0-c993-4d55-94e9-f5c65300179b",
   "metadata": {},
   "outputs": [
    {
     "name": "stdin",
     "output_type": "stream",
     "text": [
      "enter the name mahati\n",
      "enter the name maruti\n",
      "enter the name mahalakshmi\n",
      "enter the name meenakshi\n"
     ]
    },
    {
     "name": "stdout",
     "output_type": "stream",
     "text": [
      "write\n"
     ]
    }
   ],
   "source": [
    "file=open(\"names.txt\",\"w\")\n",
    "for i in range(4):\n",
    "    names=input(\"enter the name\")\n",
    "    file.write(\"names\")\n",
    "file.close()\n",
    "print(\"write\")"
   ]
  },
  {
   "cell_type": "code",
   "execution_count": 17,
   "id": "933239f1-6d9e-4c6d-ae77-7f0b259cf22d",
   "metadata": {},
   "outputs": [
    {
     "name": "stdin",
     "output_type": "stream",
     "text": [
      "enter the name mahati\n",
      "enter the name maruti\n",
      "enter the name meenakshi\n"
     ]
    },
    {
     "name": "stdout",
     "output_type": "stream",
     "text": [
      "writelines\n"
     ]
    }
   ],
   "source": [
    "file=open('names.txt','w')\n",
    "l=[]\n",
    "for i in range(3):\n",
    "    names=input(\"enter the name\")\n",
    "    l.append(names +'\\n')\n",
    "file.writelines(l)\n",
    "file.close()\n",
    "print(\"writelines\")"
   ]
  },
  {
   "cell_type": "code",
   "execution_count": null,
   "id": "cb0f1d60-5b72-4509-a82c-9e797f1cfd83",
   "metadata": {},
   "outputs": [],
   "source": []
  }
 ],
 "metadata": {
  "kernelspec": {
   "display_name": "Python 3 (ipykernel)",
   "language": "python",
   "name": "python3"
  },
  "language_info": {
   "codemirror_mode": {
    "name": "ipython",
    "version": 3
   },
   "file_extension": ".py",
   "mimetype": "text/x-python",
   "name": "python",
   "nbconvert_exporter": "python",
   "pygments_lexer": "ipython3",
   "version": "3.10.8"
  }
 },
 "nbformat": 4,
 "nbformat_minor": 5
}
