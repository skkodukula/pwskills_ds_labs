{
 "cells": [
  {
   "cell_type": "code",
   "execution_count": null,
   "id": "4d7d2f38-f7d9-4fe7-b22a-ab0da5a7e4af",
   "metadata": {},
   "outputs": [],
   "source": [
    "# which key word is used to create  a function?\n",
    " def"
   ]
  },
  {
   "cell_type": "code",
   "execution_count": null,
   "id": "085e5f97-7d81-414c-904a-59f2ff65f2e9",
   "metadata": {},
   "outputs": [],
   "source": [
    "# create a function to return a list of odd numbers in the range of 1 to 25"
   ]
  },
  {
   "cell_type": "code",
   "execution_count": 7,
   "id": "1d707b5c-ecca-4880-8bb6-9820382166f2",
   "metadata": {},
   "outputs": [],
   "source": [
    "def test(a,b): \n",
    "    return"
   ]
  },
  {
   "cell_type": "code",
   "execution_count": 45,
   "id": "646dd31f-f204-49d6-b493-30ad576db741",
   "metadata": {},
   "outputs": [],
   "source": [
    " def test(a,b) :\n",
    "    n=[]\n",
    "    for i in range (a,b) :\n",
    "         if i % 2!=0 :\n",
    "            n.append(i)\n",
    "    return n\n",
    "        "
   ]
  },
  {
   "cell_type": "code",
   "execution_count": 47,
   "id": "98ea6c1c-e0b9-44fa-99f7-8cbf78f4eaeb",
   "metadata": {},
   "outputs": [
    {
     "data": {
      "text/plain": [
       "[1, 3, 5, 7, 9, 11, 13, 15, 17, 19, 21, 23, 25]"
      ]
     },
     "execution_count": 47,
     "metadata": {},
     "output_type": "execute_result"
    }
   ],
   "source": [
    "test(1,26)"
   ]
  },
  {
   "cell_type": "code",
   "execution_count": null,
   "id": "67259a59-45f6-4b23-b754-7cc4ad899cbb",
   "metadata": {},
   "outputs": [],
   "source": [
    "# why *args and *kwargs are used in some functions ?\n",
    " when we are unsure about the number of arguments to pass in the function "
   ]
  },
  {
   "cell_type": "code",
   "execution_count": 51,
   "id": "ed0d9467-1bd0-443f-8793-cd7a852a8712",
   "metadata": {},
   "outputs": [],
   "source": [
    "def test1(a,b,c):\n",
    "    return"
   ]
  },
  {
   "cell_type": "code",
   "execution_count": 55,
   "id": "111a2c83-adee-4d81-8bf7-62f9b3555800",
   "metadata": {},
   "outputs": [],
   "source": [
    "def test1(a,b,c) :\n",
    "    s= a+b+c\n",
    "    return s"
   ]
  },
  {
   "cell_type": "code",
   "execution_count": 56,
   "id": "a5e91cec-1ac2-418b-b4f1-1b6b82069c9b",
   "metadata": {},
   "outputs": [
    {
     "data": {
      "text/plain": [
       "99"
      ]
     },
     "execution_count": 56,
     "metadata": {},
     "output_type": "execute_result"
    }
   ],
   "source": [
    "test1(25,9,65)"
   ]
  },
  {
   "cell_type": "code",
   "execution_count": 57,
   "id": "fb240506-fb24-408b-a51e-5558f20762d6",
   "metadata": {},
   "outputs": [],
   "source": [
    "def test2(a,b,c):\n",
    "    return"
   ]
  },
  {
   "cell_type": "code",
   "execution_count": 60,
   "id": "4e9cca50-4652-457f-8bd1-6cbab3b99e4d",
   "metadata": {},
   "outputs": [],
   "source": [
    "def test2(a,b,c):\n",
    "    k=a*b/c\n",
    "    return k"
   ]
  },
  {
   "cell_type": "code",
   "execution_count": 61,
   "id": "570e45b2-d6a3-4f1f-89fc-8735592ee5cb",
   "metadata": {},
   "outputs": [
    {
     "data": {
      "text/plain": [
       "0.6"
      ]
     },
     "execution_count": 61,
     "metadata": {},
     "output_type": "execute_result"
    }
   ],
   "source": [
    "test2(1,3,5)"
   ]
  },
  {
   "cell_type": "code",
   "execution_count": 78,
   "id": "a8f16b73-c2f8-4d65-bcc4-eb65ef9644d0",
   "metadata": {},
   "outputs": [],
   "source": [
    "def test3(*args,a):\n",
    "    return args,a"
   ]
  },
  {
   "cell_type": "code",
   "execution_count": 81,
   "id": "5b28e79e-e564-4ec2-8919-24a6d4d23136",
   "metadata": {},
   "outputs": [
    {
     "data": {
      "text/plain": [
       "((1, 3, 5), 23)"
      ]
     },
     "execution_count": 81,
     "metadata": {},
     "output_type": "execute_result"
    }
   ],
   "source": [
    " test3(1,3,5, a=23)\n",
    "    "
   ]
  },
  {
   "cell_type": "code",
   "execution_count": 84,
   "id": "85ccf8ad-fa73-4004-919b-6e07e02b985e",
   "metadata": {},
   "outputs": [],
   "source": [
    "def test4(*name , **password):\n",
    "    return name , password\n"
   ]
  },
  {
   "cell_type": "code",
   "execution_count": 89,
   "id": "780b07e0-e605-41a1-a67f-ecb0b4d81ce1",
   "metadata": {},
   "outputs": [
    {
     "data": {
      "text/plain": [
       "((), {'name': 'kalpana', 'password': 32467123})"
      ]
     },
     "execution_count": 89,
     "metadata": {},
     "output_type": "execute_result"
    }
   ],
   "source": [
    "test4(name=\"kalpana\",password= 32467123)"
   ]
  },
  {
   "cell_type": "code",
   "execution_count": null,
   "id": "ff72056c-9023-48c1-aebf-f38aed31fcd8",
   "metadata": {},
   "outputs": [],
   "source": [
    "# what is iterator in python? \n",
    " An iterator is an object that contains a countable number of values. _iter_() this method is called for returns an iterator object \n",
    "    _next_() it returns the next value for the iterable.\n",
    "    "
   ]
  },
  {
   "cell_type": "code",
   "execution_count": 4,
   "id": "a92b61dc-78ff-4516-a9eb-5ca2adb35d15",
   "metadata": {},
   "outputs": [
    {
     "name": "stdout",
     "output_type": "stream",
     "text": [
      "2\n",
      "4\n",
      "6\n",
      "8\n",
      "10\n"
     ]
    }
   ],
   "source": [
    "l=[2,4,6,8,10,12,14,16,18,20]\n",
    "for i in l:\n",
    "    if i<=10:\n",
    "        print(i)"
   ]
  },
  {
   "cell_type": "code",
   "execution_count": null,
   "id": "dc7ac6d9-eeaa-4153-8348-d6a83e8889f9",
   "metadata": {},
   "outputs": [],
   "source": [
    "# what is generator function in python\n",
    " Allows you to declare a function that behaves like an iterator,allowing programmers to make an iterator in a fast \n",
    "    easy and clean way. An iterator is an object that can be iterated or looped on.\n",
    "# why Yield keyword is used ?\n",
    " The values returned by yeild statement are stored as local variable states, which allows \n",
    "    control over the memory over head allocation.\n",
    "    Also each time the execution does not start from begining ,since the previous state is retained.\n",
    "    "
   ]
  },
  {
   "cell_type": "code",
   "execution_count": 20,
   "id": "0bad094f-6417-4c4f-b3a0-de8fbadd72d9",
   "metadata": {},
   "outputs": [],
   "source": [
    "def test8(n) :\n",
    "    i=0\n",
    "    while i < n :\n",
    "        yield i \n",
    "        i += 1\n",
    "    \n",
    "        \n",
    "    \n",
    "    \n",
    "    \n",
    "\n",
    "    \n",
    "    "
   ]
  },
  {
   "cell_type": "code",
   "execution_count": 21,
   "id": "8098a8eb-3f04-4a90-97c7-cd012bb4769e",
   "metadata": {},
   "outputs": [
    {
     "data": {
      "text/plain": [
       "<generator object test8 at 0x7ff99d8926c0>"
      ]
     },
     "execution_count": 21,
     "metadata": {},
     "output_type": "execute_result"
    }
   ],
   "source": [
    "test8(10)"
   ]
  },
  {
   "cell_type": "code",
   "execution_count": 22,
   "id": "599dacce-7234-4527-b83a-4e0644740b25",
   "metadata": {},
   "outputs": [
    {
     "name": "stdout",
     "output_type": "stream",
     "text": [
      "0\n",
      "1\n",
      "2\n",
      "3\n",
      "4\n",
      "5\n",
      "6\n",
      "7\n",
      "8\n",
      "9\n"
     ]
    }
   ],
   "source": [
    "for i in test8(10):\n",
    "    print(i)"
   ]
  },
  {
   "cell_type": "code",
   "execution_count": null,
   "id": "70b1530f-de33-4ecf-b269-35076031c77c",
   "metadata": {},
   "outputs": [],
   "source": [
    "# create a function of prime number less than 1000 . Use the next() generator and print the first 20 prime numbers "
   ]
  },
  {
   "cell_type": "code",
   "execution_count": 138,
   "id": "e721b414-c138-4fa0-82fa-7aac3b27e80f",
   "metadata": {},
   "outputs": [
    {
     "name": "stdout",
     "output_type": "stream",
     "text": [
      "2, 3, 5, 7, 11, 13, 17, 19, 23, 29, 31, 37, 41, 43, 47, 53, 59, 61, 67, 71, "
     ]
    }
   ],
   "source": [
    "n=1\n",
    "i=2\n",
    "while (n<=20):\n",
    "    b=0\n",
    "    for j in range (2,int(i/2)+1):\n",
    "        if (i%j==0):\n",
    "            b=1\n",
    "            break\n",
    "    if (b==0):\n",
    "        print(i,end=', ')\n",
    "        n=n+1\n",
    "    i=i+1"
   ]
  },
  {
   "cell_type": "code",
   "execution_count": 143,
   "id": "194e45d3-0bd6-446d-bb87-0a210738319d",
   "metadata": {},
   "outputs": [
    {
     "name": "stdout",
     "output_type": "stream",
     "text": [
      "2, 3, 5, 7, 11, 13, 17, 19, 23, 29, 31, 37, 41, 43, 47, 53, 59, 61, 67, 71, 73, 79, 83, 89, 97, 101, 103, 107, 109, 113, 127, 131, 137, 139, 149, 151, 157, 163, 167, 173, 179, 181, 191, 193, 197, 199, 211, 223, 227, 229, 233, 239, 241, 251, 257, 263, 269, 271, 277, 281, 283, 293, 307, 311, 313, 317, 331, 337, 347, 349, 353, 359, 367, 373, 379, 383, 389, 397, 401, 409, 419, 421, 431, 433, 439, 443, 449, 457, 461, 463, 467, 479, 487, 491, 499, 503, 509, 521, 523, 541, 547, 557, 563, 569, 571, 577, 587, 593, 599, 601, 607, 613, 617, 619, 631, 641, 643, 647, 653, 659, 661, 673, 677, 683, 691, 701, 709, 719, 727, 733, 739, 743, 751, 757, 761, 769, 773, 787, 797, 809, 811, 821, 823, 827, 829, 839, 853, 857, 859, 863, 877, 881, 883, 887, 907, 911, 919, 929, 937, 941, 947, 953, 967, 971, 977, 983, 991, 997, "
     ]
    }
   ],
   "source": [
    "for i in range (1,1001):\n",
    "    if i>1:\n",
    "        for j in range (2,i):\n",
    "            if (i%j)==0:\n",
    "                break\n",
    "        else:\n",
    "                print(i,end=', ')\n"
   ]
  },
  {
   "cell_type": "code",
   "execution_count": null,
   "id": "75206c51-a0e8-4ce8-a555-465db0ce2e75",
   "metadata": {},
   "outputs": [],
   "source": []
  }
 ],
 "metadata": {
  "kernelspec": {
   "display_name": "Python 3 (ipykernel)",
   "language": "python",
   "name": "python3"
  },
  "language_info": {
   "codemirror_mode": {
    "name": "ipython",
    "version": 3
   },
   "file_extension": ".py",
   "mimetype": "text/x-python",
   "name": "python",
   "nbconvert_exporter": "python",
   "pygments_lexer": "ipython3",
   "version": "3.10.8"
  }
 },
 "nbformat": 4,
 "nbformat_minor": 5
}
