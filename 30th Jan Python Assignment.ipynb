{
 "cells": [
  {
   "cell_type": "code",
   "execution_count": 10,
   "id": "3965ccb2-382c-4f70-b3ea-3f47e883ab4a",
   "metadata": {},
   "outputs": [
    {
     "name": "stdin",
     "output_type": "stream",
     "text": [
      "enter the value 100\n"
     ]
    },
    {
     "name": "stdout",
     "output_type": "stream",
     "text": [
      "Anil got grade A\n"
     ]
    }
   ],
   "source": [
    "a=int(input(\"enter the value\"))\n",
    "if a>90:\n",
    "    print(\"Anil got grade A\") \n",
    "if a>80 and a<=90:\n",
    "     print(\"Anil got grade B\")\n",
    "if a>=60 and a<=80:\n",
    "     print(\"Anil got grade C\")\n",
    "if a<60:\n",
    "     print(\"Anil got grade D\")\n",
    "            \n",
    "\n"
   ]
  },
  {
   "cell_type": "code",
   "execution_count": 8,
   "id": "b1c2fbad-747f-41ef-8adc-56f3d80ed875",
   "metadata": {},
   "outputs": [
    {
     "name": "stdin",
     "output_type": "stream",
     "text": [
      "enter the cost price 65000\n"
     ]
    },
    {
     "name": "stdout",
     "output_type": "stream",
     "text": [
      "road tax paid is 10%\n"
     ]
    }
   ],
   "source": [
    "CP=int(input(\"enter the cost price\"))\n",
    "if CP>100000:\n",
    "    print(\"road tax paid is 15%\")\n",
    "if CP>50000 and CP<=100000:\n",
    "    print(\"road tax paid is 10%\")\n",
    "if CP<=50000:\n",
    "     print(\"road tax paid is 5%\")     \n",
    "\n"
   ]
  },
  {
   "cell_type": "code",
   "execution_count": 29,
   "id": "115e45a0-abf8-4607-bd73-d4c3387af4d6",
   "metadata": {},
   "outputs": [
    {
     "name": "stdin",
     "output_type": "stream",
     "text": [
      "enter the city Delhi\n"
     ]
    },
    {
     "name": "stdout",
     "output_type": "stream",
     "text": [
      "Red fort\n"
     ]
    }
   ],
   "source": [
    "## accept any city from the user and display the monument of the city\n",
    "city=input(\"enter the city\")\n",
    "if city==\"Delhi\":\n",
    "    print(\"Red fort\")\n",
    "elif city==\"Agra\":\n",
    "    print(\" Taj Mahal\")\n",
    "elif city==\"Jaipur\":\n",
    "    print(\"Jal mahal\")\n",
    "else:\n",
    "    print(\"valid city\")\n",
    "\n"
   ]
  },
  {
   "cell_type": "code",
   "execution_count": 41,
   "id": "4562e572-d420-487a-b51f-387874820ffd",
   "metadata": {},
   "outputs": [
    {
     "name": "stdin",
     "output_type": "stream",
     "text": [
      "enter the value 81\n"
     ]
    },
    {
     "name": "stdout",
     "output_type": "stream",
     "text": [
      "2\n"
     ]
    }
   ],
   "source": [
    "## check how many times a given number can be divide by 3 before it is less than or equal to 10\n",
    "a=int(input(\"enter the value\"))\n",
    "i=0\n",
    "while a>10 and a%3==0:\n",
    "    i=i+1\n",
    "    a=a/3\n",
    "print(i)\n",
    "    \n",
    "        \n",
    "\n",
    "\n",
    "\n"
   ]
  },
  {
   "cell_type": "code",
   "execution_count": 53,
   "id": "360f7f71-46cf-42c7-8faf-809587e03437",
   "metadata": {},
   "outputs": [
    {
     "name": "stdout",
     "output_type": "stream",
     "text": [
      "* \n",
      "* * \n",
      "* * * \n",
      "* * * * \n",
      "* * * * * \n",
      "* * * * * * \n",
      "* * * * * * * \n"
     ]
    }
   ],
   "source": [
    "# nested loop\n",
    "n=7\n",
    "for i in range(0,n):\n",
    "    for j in range (0,i+1):\n",
    "        print(\"*\",end=\" \")\n",
    "    print(\"\\r\")\n",
    "              \n",
    "\n"
   ]
  },
  {
   "cell_type": "code",
   "execution_count": 55,
   "id": "c1959a06-98f7-484c-9d20-36eac8214732",
   "metadata": {},
   "outputs": [
    {
     "name": "stdout",
     "output_type": "stream",
     "text": [
      "* \n",
      "* * \n",
      "* * * \n",
      "* * * * \n",
      "* * * * * \n",
      "* * * * * * \n",
      "* * * * * * * \n",
      "* * * * * * * \n",
      "* * * * * * \n",
      "* * * * * \n",
      "* * * * \n",
      "* * * \n",
      "* * \n",
      "* \n"
     ]
    }
   ],
   "source": [
    "# nested loop 2\n",
    "n=7\n",
    "for i in range (0,n):\n",
    "    for j in range (0,i+1):\n",
    "        print(\"*\",end=\" \")\n",
    "    print(\"\\r\")\n",
    "for i in range (7,0,-1):\n",
    "    for j in range (1,i+1):\n",
    "        print(\"*\",end=\" \")\n",
    "    print(\"\\r\")\n",
    "    \n",
    "        "
   ]
  },
  {
   "cell_type": "code",
   "execution_count": 152,
   "id": "271a5ad1-a89b-445f-a3bc-393a244c3d77",
   "metadata": {},
   "outputs": [
    {
     "name": "stdout",
     "output_type": "stream",
     "text": [
      "          * \n",
      "        * * * \n",
      "      * * * * * \n",
      "    * * * * * * * \n",
      "  * * * * * * * * * \n"
     ]
    }
   ],
   "source": [
    "#nested loop 3\n",
    "n=5\n",
    "for i in range(n):\n",
    "    for j in range (i,n):\n",
    "        print(\" \",end=\" \")\n",
    "    for j in range (i):\n",
    "        print(\"*\",end=\" \")\n",
    "    for j in range (i+1):\n",
    "        print(\"*\",end=\" \")\n",
    "    print()\n",
    "          \n",
    "    \n",
    "    \n",
    "    \n",
    "    \n",
    "    \n",
    "    \n",
    "    \n",
    "    \n",
    "    \n",
    "    \n",
    "    \n",
    "    \n",
    "    "
   ]
  },
  {
   "cell_type": "code",
   "execution_count": 161,
   "id": "679383eb-d3f2-4e95-bcdb-16f2f06ca336",
   "metadata": {
    "tags": []
   },
   "outputs": [
    {
     "name": "stdout",
     "output_type": "stream",
     "text": [
      "  * * * * * * * * * \n",
      "    * * * * * * * \n",
      "      * * * * * \n",
      "        * * * \n",
      "          * \n"
     ]
    }
   ],
   "source": [
    "n=5\n",
    "for i in range(n-1,-1,-1):\n",
    "    for j in range (i,n):\n",
    "        print(\" \",end=\" \")\n",
    "    for j in range (i+1):\n",
    "        print(\"*\",end=\" \")\n",
    "    for j in range (i):\n",
    "        print(\"*\",end=\" \")\n",
    "   \n",
    "    print()\n"
   ]
  },
  {
   "cell_type": "code",
   "execution_count": 164,
   "id": "a457ee6a-dbf9-4da8-844a-6c5a2a37a9a0",
   "metadata": {},
   "outputs": [
    {
     "name": "stdout",
     "output_type": "stream",
     "text": [
      "          * \n",
      "        * * * \n",
      "      * * * * * \n",
      "    * * * * * * * \n",
      "  * * * * * * * * * \n",
      "* * * * * * * * * * * \n",
      "  * * * * * * * * * \n",
      "    * * * * * * * \n",
      "      * * * * * \n",
      "        * * * \n",
      "          * \n"
     ]
    }
   ],
   "source": [
    "n=5\n",
    "for i in range(n):\n",
    "    for j in range (i,n):\n",
    "        print(\" \",end=\" \")\n",
    "    for j in range (i):\n",
    "        print(\"*\",end=\" \")\n",
    "    for j in range (i+1):\n",
    "        print(\"*\",end=\" \")\n",
    "    print()\n",
    "for i in range(n,-1,-1):\n",
    "    for j in range (i,n):\n",
    "        print(\" \",end=\" \")\n",
    "    for j in range (i+1):\n",
    "        print(\"*\",end=\" \")\n",
    "    for j in range (i):\n",
    "        print(\"*\",end=\" \")\n",
    "   \n",
    "    print()\n"
   ]
  },
  {
   "cell_type": "code",
   "execution_count": 34,
   "id": "7a93cd4d-695f-4c33-86cd-5322da7e47a2",
   "metadata": {},
   "outputs": [
    {
     "name": "stdout",
     "output_type": "stream",
     "text": [
      "*                         * \n",
      "* *                     * * \n",
      "* * *                 * * * \n",
      "* * * *             * * * * \n",
      "* * * * *         * * * * * \n",
      "* * * * * *     * * * * * * \n",
      "* * * * * * * * * * * * * * \n",
      "* * * * * *     * * * * * * \n",
      "* * * * *         * * * * * \n",
      "* * * *             * * * * \n",
      "* * *                 * * * \n",
      "* *                     * * \n",
      "*                         * \n"
     ]
    }
   ],
   "source": [
    "# butterfly\n",
    "n=7\n",
    "for i in range (1,n):\n",
    "    s=\"* \" * i\n",
    "    s1= \"  \" * (2*(n-i))\n",
    "    print(s+ s1 +s)\n",
    "#for i in range (n,n-1,-1):\n",
    "for i in range (n,0,-1):\n",
    "    s=\"* \" * i\n",
    "    s1= \"  \" * (2*(n-i))\n",
    "    print(s+ s1 +s)\n",
    "    \n",
    "    \n",
    "    \n",
    "    \n",
    "         \n",
    "    "
   ]
  },
  {
   "cell_type": "code",
   "execution_count": 53,
   "id": "2a064259-3e21-4fd3-8e4d-0a97374e425e",
   "metadata": {},
   "outputs": [
    {
     "name": "stdout",
     "output_type": "stream",
     "text": [
      " *\n",
      " * * *\n",
      " * * * * *\n",
      " * * * * * * *\n",
      " * * * * * * * * *\n"
     ]
    }
   ],
   "source": [
    "#nested 6\n",
    "n=5\n",
    "for i in range (0,n):\n",
    "    s=\" *\" * ((i*2)+1)\n",
    "    print(s)\n"
   ]
  },
  {
   "cell_type": "code",
   "execution_count": 69,
   "id": "8e9dbc2f-9b55-4e7a-a885-c53bebf1897c",
   "metadata": {},
   "outputs": [
    {
     "name": "stdout",
     "output_type": "stream",
     "text": [
      "10\n",
      "9\n",
      "8\n",
      "7\n",
      "6\n",
      "5\n",
      "4\n",
      "3\n",
      "2\n",
      "1\n",
      "0\n"
     ]
    }
   ],
   "source": [
    "# reverse a while loop from 10 to 1\n",
    "n=11\n",
    "while n!=0:\n",
    "    n=n-1\n",
    "    print(n)"
   ]
  },
  {
   "cell_type": "code",
   "execution_count": null,
   "id": "12fd0ad9-7545-4b79-bd8c-114f68e5981b",
   "metadata": {},
   "outputs": [],
   "source": []
  }
 ],
 "metadata": {
  "kernelspec": {
   "display_name": "Python 3 (ipykernel)",
   "language": "python",
   "name": "python3"
  },
  "language_info": {
   "codemirror_mode": {
    "name": "ipython",
    "version": 3
   },
   "file_extension": ".py",
   "mimetype": "text/x-python",
   "name": "python",
   "nbconvert_exporter": "python",
   "pygments_lexer": "ipython3",
   "version": "3.10.8"
  }
 },
 "nbformat": 4,
 "nbformat_minor": 5
}
