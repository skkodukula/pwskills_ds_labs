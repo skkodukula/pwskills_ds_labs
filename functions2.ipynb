{
 "cells": [
  {
   "cell_type": "code",
   "execution_count": null,
   "id": "ba16a51e-cb99-4c23-8db7-8a412675d1ae",
   "metadata": {},
   "outputs": [],
   "source": [
    "#1"
   ]
  },
  {
   "cell_type": "code",
   "execution_count": 6,
   "id": "a3e59afc-eed5-4ea8-a54f-7d2fd085033f",
   "metadata": {},
   "outputs": [],
   "source": [
    "l1=[(\"Sachin Tendulkar\" , 34357),(\"Ricky Pointing\",27483),(\"Jack Kallis\",25537),(\"Virat kohili\",24936)]"
   ]
  },
  {
   "cell_type": "code",
   "execution_count": 40,
   "id": "b8602f35-b357-4101-a6e2-b689e08900f5",
   "metadata": {},
   "outputs": [],
   "source": [
    "list=lambda x: x[0]"
   ]
  },
  {
   "cell_type": "code",
   "execution_count": 41,
   "id": "3dc2aef1-6754-4696-b40a-281dee49443b",
   "metadata": {},
   "outputs": [
    {
     "data": {
      "text/plain": [
       "('Virat kohili', 24936)"
      ]
     },
     "execution_count": 41,
     "metadata": {},
     "output_type": "execute_result"
    }
   ],
   "source": [
    "list(l1)"
   ]
  },
  {
   "cell_type": "code",
   "execution_count": null,
   "id": "2e30923f-6b6c-484d-9401-66edd928ab28",
   "metadata": {},
   "outputs": [],
   "source": [
    "#2"
   ]
  },
  {
   "cell_type": "code",
   "execution_count": 7,
   "id": "dee869ad-3390-4f4e-88dc-a7edb9a1a24b",
   "metadata": {},
   "outputs": [],
   "source": [
    "l2=[1,2,3,4,5,6,7,8,9,10]"
   ]
  },
  {
   "cell_type": "code",
   "execution_count": 3,
   "id": "0a76d068-3d77-406e-a60d-5f663dbe816d",
   "metadata": {},
   "outputs": [
    {
     "data": {
      "text/plain": [
       "[1, 4, 9, 16, 25, 36, 49, 64, 81, 100]"
      ]
     },
     "execution_count": 3,
     "metadata": {},
     "output_type": "execute_result"
    }
   ],
   "source": [
    "list(map(lambda x:x**2,l2))"
   ]
  },
  {
   "cell_type": "code",
   "execution_count": 9,
   "id": "512a2a81-d285-4677-a7a2-228d23f7d170",
   "metadata": {},
   "outputs": [
    {
     "data": {
      "text/plain": [
       "['1', '2', '3', '4', '5', '6', '7', '8', '9', '10']"
      ]
     },
     "execution_count": 9,
     "metadata": {},
     "output_type": "execute_result"
    }
   ],
   "source": [
    "list(map(lambda x: str(x),l2))"
   ]
  },
  {
   "cell_type": "code",
   "execution_count": 12,
   "id": "b0fe0ef5-4069-4f24-a9b8-14c76db4e0e7",
   "metadata": {},
   "outputs": [],
   "source": [
    "l3=[1,2,3,4,5,6,7,8,9,10,11,12,13,14,15,16,17,18,19,20,21,22,23,24,25]"
   ]
  },
  {
   "cell_type": "code",
   "execution_count": 13,
   "id": "c76b38b8-884e-4576-aaae-94c857f405e8",
   "metadata": {},
   "outputs": [],
   "source": [
    "from functools import reduce"
   ]
  },
  {
   "cell_type": "code",
   "execution_count": 14,
   "id": "91b94740-dbcc-479c-b5ad-dedd7e85c05f",
   "metadata": {},
   "outputs": [
    {
     "data": {
      "text/plain": [
       "15511210043330985984000000"
      ]
     },
     "execution_count": 14,
     "metadata": {},
     "output_type": "execute_result"
    }
   ],
   "source": [
    "reduce(lambda x,y: x*y,l3)"
   ]
  },
  {
   "cell_type": "code",
   "execution_count": 15,
   "id": "5957f860-3c7c-460e-84c1-7f394c690cc4",
   "metadata": {},
   "outputs": [],
   "source": [
    "l4=[1,2,3]"
   ]
  },
  {
   "cell_type": "code",
   "execution_count": 16,
   "id": "a969ea57-c4bd-4bf1-ad60-fb69486d5758",
   "metadata": {},
   "outputs": [
    {
     "data": {
      "text/plain": [
       "6"
      ]
     },
     "execution_count": 16,
     "metadata": {},
     "output_type": "execute_result"
    }
   ],
   "source": [
    "reduce(lambda x,y:x*y,l4)"
   ]
  },
  {
   "cell_type": "code",
   "execution_count": 17,
   "id": "7baa0f41-791b-4728-b1cf-a0ea44aa8447",
   "metadata": {},
   "outputs": [],
   "source": [
    "l5=[2,3,6,9,27,60,90,120,55,46]"
   ]
  },
  {
   "cell_type": "code",
   "execution_count": 33,
   "id": "ff808dd3-7357-4276-9182-3e051dca702f",
   "metadata": {},
   "outputs": [
    {
     "data": {
      "text/plain": [
       "[2, 6, 60, 90, 120, 46]"
      ]
     },
     "execution_count": 33,
     "metadata": {},
     "output_type": "execute_result"
    }
   ],
   "source": [
    "list(filter(lambda x: x%2==0 ,l5))"
   ]
  },
  {
   "cell_type": "code",
   "execution_count": 34,
   "id": "1b81fcf7-33c6-46a9-b31d-d907c4251532",
   "metadata": {},
   "outputs": [
    {
     "data": {
      "text/plain": [
       "[3, 6, 9, 27, 60, 90, 120]"
      ]
     },
     "execution_count": 34,
     "metadata": {},
     "output_type": "execute_result"
    }
   ],
   "source": [
    "list(filter(lambda x: x%3==0,l5))"
   ]
  },
  {
   "cell_type": "code",
   "execution_count": 35,
   "id": "229f6b5e-8ba4-46f0-8513-eacfc9f95d26",
   "metadata": {},
   "outputs": [],
   "source": [
    "l6=['python','php','aba','radar','level']"
   ]
  },
  {
   "cell_type": "code",
   "execution_count": 36,
   "id": "c23cc52e-04ca-40a9-8d01-b3bbded7955b",
   "metadata": {},
   "outputs": [
    {
     "data": {
      "text/plain": [
       "['php', 'aba', 'radar', 'level']"
      ]
     },
     "execution_count": 36,
     "metadata": {},
     "output_type": "execute_result"
    }
   ],
   "source": [
    "list(filter(lambda x:(x== \"\".join(reversed(x))),l6))"
   ]
  },
  {
   "cell_type": "code",
   "execution_count": null,
   "id": "a5bef746-1433-4b03-9029-564c51ce1428",
   "metadata": {},
   "outputs": [],
   "source": []
  }
 ],
 "metadata": {
  "kernelspec": {
   "display_name": "Python 3 (ipykernel)",
   "language": "python",
   "name": "python3"
  },
  "language_info": {
   "codemirror_mode": {
    "name": "ipython",
    "version": 3
   },
   "file_extension": ".py",
   "mimetype": "text/x-python",
   "name": "python",
   "nbconvert_exporter": "python",
   "pygments_lexer": "ipython3",
   "version": "3.10.8"
  }
 },
 "nbformat": 4,
 "nbformat_minor": 5
}
