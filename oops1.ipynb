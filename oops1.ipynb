{
 "cells": [
  {
   "cell_type": "markdown",
   "id": "d2eabb9c-8452-4af1-94d9-58c5fb117839",
   "metadata": {},
   "source": [
    "#Explian class and object with respect to object_oriented programming?\n",
    " *A class is like an object constructor,or a \"blue print\"for creating objects.\n",
    " * An object is called a instance of a class.\n",
    " "
   ]
  },
  {
   "cell_type": "code",
   "execution_count": 4,
   "id": "49e08187-877f-4e67-8661-5f5960f4e8ab",
   "metadata": {},
   "outputs": [
    {
     "name": "stdout",
     "output_type": "stream",
     "text": [
      "<class '__main__.Myclass'>\n"
     ]
    }
   ],
   "source": [
    "class Myclass:\n",
    "    x=5\n",
    "    print(Myclass)"
   ]
  },
  {
   "cell_type": "code",
   "execution_count": 3,
   "id": "0163b87d-75f3-47df-b3eb-976808868618",
   "metadata": {},
   "outputs": [
    {
     "name": "stdout",
     "output_type": "stream",
     "text": [
      "5\n"
     ]
    }
   ],
   "source": [
    "class Myclass:\n",
    "    x=5\n",
    "p1=Myclass()\n",
    "print(p1.x)"
   ]
  },
  {
   "cell_type": "markdown",
   "id": "1150695f-9ae4-4f5f-853e-91df0a3ae9d2",
   "metadata": {},
   "source": [
    "# Name the 4 pillars of oops\n",
    " Inheritance,Polymorphism,Encapsulation,Abstraction"
   ]
  },
  {
   "cell_type": "markdown",
   "id": "65d4a902-85ed-4e8f-886f-2bd0b015f2ef",
   "metadata": {},
   "source": [
    "# find the __init__() function is used? Give an Example\n",
    " The function is called every time an object is created from a class "
   ]
  },
  {
   "cell_type": "code",
   "execution_count": null,
   "id": "dd328c59-9591-4515-89a6-5a0b1557190d",
   "metadata": {},
   "outputs": [],
   "source": []
  },
  {
   "cell_type": "code",
   "execution_count": 4,
   "id": "3277a63f-3602-417b-a530-28acc4308acc",
   "metadata": {},
   "outputs": [
    {
     "name": "stdout",
     "output_type": "stream",
     "text": [
      "Hello my name is  nikil\n"
     ]
    }
   ],
   "source": [
    "class person:\n",
    "    def __init__(self,name):\n",
    "        self.name= name\n",
    "    def say_hi(self):\n",
    "        print(\"Hello my name is \", self.name)\n",
    "p= person(\"nikil\")\n",
    "p.say_hi()"
   ]
  },
  {
   "cell_type": "markdown",
   "id": "19825a5c-2209-4013-a27e-82c72662ae9c",
   "metadata": {},
   "source": [
    "# Why self is used in oops?\n",
    " Is used to represent the instance of the class \n",
    " "
   ]
  },
  {
   "cell_type": "markdown",
   "id": "6205e7c7-12c0-41fc-9171-e08bbee0a40a",
   "metadata": {},
   "source": [
    "# what is inheritance ? Give an example for each type?\n",
    " Inheritance allows us to define a class that inherits all the methods and properities from another class.\n",
    " *parent class is the class is being inherited from,also called base class \n",
    " *child class is the class that inherits from another class,also called derived class."
   ]
  },
  {
   "cell_type": "code",
   "execution_count": 5,
   "id": "8707ab44-d5de-487f-99e0-9800cbcc7780",
   "metadata": {},
   "outputs": [
    {
     "name": "stdout",
     "output_type": "stream",
     "text": [
      "keerthi saikrishna\n"
     ]
    }
   ],
   "source": [
    "class person:\n",
    "    def __init__(self,name1,name2):\n",
    "        self.firstname=name1\n",
    "        self.lastname=name2\n",
    "    def printname(self):\n",
    "        print(self.firstname,self.lastname)\n",
    "class student(person):\n",
    "    def __init__(self,name1,name2):\n",
    "        person.__init__(self,name1,name2)\n",
    "x= student(\"keerthi\",\"saikrishna\")\n",
    "x.printname()"
   ]
  },
  {
   "cell_type": "code",
   "execution_count": null,
   "id": "6b2be278-2c06-4644-ad98-0bf772c57824",
   "metadata": {},
   "outputs": [],
   "source": []
  }
 ],
 "metadata": {
  "kernelspec": {
   "display_name": "Python 3 (ipykernel)",
   "language": "python",
   "name": "python3"
  },
  "language_info": {
   "codemirror_mode": {
    "name": "ipython",
    "version": 3
   },
   "file_extension": ".py",
   "mimetype": "text/x-python",
   "name": "python",
   "nbconvert_exporter": "python",
   "pygments_lexer": "ipython3",
   "version": "3.10.8"
  }
 },
 "nbformat": 4,
 "nbformat_minor": 5
}
