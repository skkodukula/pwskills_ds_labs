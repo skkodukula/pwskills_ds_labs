{
 "cells": [
  {
   "cell_type": "markdown",
   "id": "4c562b17-135e-4369-a694-fd8455d0fdf2",
   "metadata": {},
   "source": [
    "Q1. You are writing code for a company. The requirement of the company is that you create a python\n",
    "function that will check whether the password entered by the user is correct or not. The function should\n",
    "take the password as input and return the string “Valid Password” if the entered password follows the\n",
    "below-given password guidelines else it should return “Invalid Password”.\n",
    "Note: 1. The Password should contain at least two uppercase letters and at least two lowercase letters.\n",
    "2. The Password should contain at least a number and three special characters.\n",
    "3. The length of the password should be 10 characters long."
   ]
  },
  {
   "cell_type": "code",
   "execution_count": 22,
   "id": "ea5f0db9-fe4e-4a3c-b07d-468c001c76e6",
   "metadata": {},
   "outputs": [
    {
     "name": "stdout",
     "output_type": "stream",
     "text": [
      "E<M]0bh%^'\n"
     ]
    }
   ],
   "source": [
    "import random\n",
    "import string\n",
    "def genaratepassword(n):\n",
    "    lower_case=string.ascii_lowercase\n",
    "    upper_case=string.ascii_uppercase\n",
    "    symbols=[\"!\",\"@\",\"#\",\"$\",\"%\",\"^\",\"&\",\"*\",\"()\",\"_\",\"+\",\",\",\"<\",\">\",\"?\",\":\",\";\",]\n",
    "    numbers=[\"1\",\"2\",\"3\",\"4\",\"5\",\"6\",\"7\",\"8\",\"9\",\"0\"]\n",
    "    password=\"\"\n",
    "    list=[lower_case,upper_case,symbols, numbers]\n",
    "    \n",
    "    \n",
    "    for i in range(2):\n",
    "        if i ==0 :\n",
    "            \n",
    "            password=password+\"\".join((random.sample(lower_case,2)))\n",
    "            password=password+\"\".join((random.sample(upper_case,2)))\n",
    "            password=password+\"\".join((random.sample(symbols,3)))\n",
    "            password=password+\"\".join((random.sample(numbers,1)))\n",
    "            k=str(random.sample(list,1))\n",
    "            password=password+\"\".join((random.sample(k,1)))\n",
    "        \n",
    "        else:\n",
    "            k=str(random.sample(list,1))\n",
    "            password=password+\"\".join((random.sample(k,1)))\n",
    "        \n",
    "                                  \n",
    "    return \"\".join(random.sample(password,10))\n",
    "if __name__==\"__main__\":\n",
    "    n=10\n",
    "    password= genaratepassword(n)\n",
    "    print(password)\n",
    "\n",
    "\n",
    "         \n",
    "    "
   ]
  },
  {
   "cell_type": "code",
   "execution_count": 10,
   "id": "fe7fabde-8a45-4741-9275-6606bb2eaabe",
   "metadata": {},
   "outputs": [
    {
     "name": "stdin",
     "output_type": "stream",
     "text": [
      "Enter the password KeeRTi@7*&\n"
     ]
    },
    {
     "name": "stdout",
     "output_type": "stream",
     "text": [
      " valid password\n"
     ]
    }
   ],
   "source": [
    "user_password=(input(\"Enter the password\"))\n",
    "password=\"KeeRTi@7*&\"\n",
    "if user_password==password :\n",
    "    print(\" valid password\")\n",
    "else:\n",
    "    print(\"Invalid password\")\n",
    "    \n",
    "\n",
    "    \n",
    "        \n",
    "                      "
   ]
  },
  {
   "cell_type": "markdown",
   "id": "8608e917-2122-43a7-9d8a-da7ecff09b52",
   "metadata": {},
   "source": [
    "Q2. Solve the below-given questions using at least one of the following:\n",
    "1. Lambda functioJ\n",
    "2. Filter functioJ\n",
    "3. Zap functioJ\n",
    "4. List ComprehensioI\n",
    "B Check if the string starts with a particular letterY\n",
    "B Check if the string is numericY\n",
    "B Sort a list of tuples having fruit names and their quantity. [(\"mango\",99),(\"orange\",80), (\"grapes\", 1000)-\n",
    "B Find the squares of numbers from 1 to 10Y\n",
    "B Find the cube root of numbers from 1 to 10Y\n",
    "B Check if a given number is evenY\n",
    "B Filter odd numbers from the given list.\n",
    "[1,2,3,4,5,6,7,8,9,10-\n",
    "B Sort a list of integers into positive and negative integers lists.\n",
    "[1,2,3,4,5,6,-1,-2,-3,-4,-5,0]"
   ]
  },
  {
   "cell_type": "markdown",
   "id": "79b240fa-bf7d-4ad9-ab8c-c952d823c042",
   "metadata": {},
   "source": [
    "Check if the string starts with a particular letter"
   ]
  },
  {
   "cell_type": "code",
   "execution_count": 2,
   "id": "5fe1a848-a85b-4d92-9b55-24bf06bff4ef",
   "metadata": {},
   "outputs": [
    {
     "name": "stdout",
     "output_type": "stream",
     "text": [
      "True\n",
      "False\n"
     ]
    }
   ],
   "source": [
    "n=lambda x: True if x.startswith('k') else False\n",
    "print(n(\"kalpana\"))\n",
    "n=lambda x: True if x.startswith(\"k\") else False\n",
    "print(n(\"Saroja\"))\n",
    "\n",
    "      "
   ]
  },
  {
   "cell_type": "markdown",
   "id": "58352c75-a595-4605-8c40-bc83739f92a9",
   "metadata": {},
   "source": [
    " # Check if the string is numeric"
   ]
  },
  {
   "cell_type": "code",
   "execution_count": 3,
   "id": "75f4b432-9f16-4241-9d48-3972df6a09dc",
   "metadata": {},
   "outputs": [
    {
     "name": "stdout",
     "output_type": "stream",
     "text": [
      "False\n",
      "False\n",
      "True\n",
      "False\n"
     ]
    }
   ],
   "source": [
    "a=\"12&*#$\"\n",
    "b=\"Kr4321\"\n",
    "c=\"897543\"\n",
    "d=\"kloft675\"\n",
    "print(a.isnumeric())\n",
    "print(b.isnumeric())\n",
    "print(c.isnumeric())\n",
    "print(d.isnumeric())\n"
   ]
  },
  {
   "cell_type": "markdown",
   "id": "3cfbdd22-578f-4086-86f2-1f2e00f21238",
   "metadata": {},
   "source": [
    "# Sort a list of tuples having fruit names and their quantity. [(\"mango\",99),(\"orange\",80), (\"grapes\", 1000)]"
   ]
  },
  {
   "cell_type": "code",
   "execution_count": 6,
   "id": "15e4f206-1e5d-4153-93ae-2b6cf5b91172",
   "metadata": {},
   "outputs": [],
   "source": [
    "list=[(\"mango\",99),(\"orange\",80), (\"grapes\", 1000)]\n",
    "list.sort()"
   ]
  },
  {
   "cell_type": "code",
   "execution_count": 7,
   "id": "9c493f7b-ba76-46f1-8f3d-76d40c9203ad",
   "metadata": {},
   "outputs": [
    {
     "name": "stdout",
     "output_type": "stream",
     "text": [
      "[('grapes', 1000), ('mango', 99), ('orange', 80)]\n"
     ]
    }
   ],
   "source": [
    "print(list)"
   ]
  },
  {
   "cell_type": "markdown",
   "id": "868c6160-67d4-4030-921a-4c6ffa078676",
   "metadata": {},
   "source": [
    "# Find the squares of numbers from 1 to 10"
   ]
  },
  {
   "cell_type": "code",
   "execution_count": 2,
   "id": "4489d005-d29d-4c1f-b3c4-b0a9e57bf959",
   "metadata": {},
   "outputs": [
    {
     "name": "stdout",
     "output_type": "stream",
     "text": [
      "[1, 4, 9, 16, 25, 36, 49, 64, 81, 100]\n"
     ]
    }
   ],
   "source": [
    "a=[1,2,3,4,5,6,7,8,9,10]\n",
    "square=list(map(lambda x: x**2,a))\n",
    "print(square)\n",
    "\n",
    "    "
   ]
  },
  {
   "cell_type": "code",
   "execution_count": 3,
   "id": "2bc80c70-e70a-4e7e-85c6-18dffc7df127",
   "metadata": {},
   "outputs": [
    {
     "name": "stdout",
     "output_type": "stream",
     "text": [
      "[1, 8, 27, 64, 125, 216, 343, 512, 729, 1000]\n"
     ]
    }
   ],
   "source": [
    "a=[1,2,3,4,5,6,7,8,9,10]\n",
    "cube=list(map(lambda x: x**3,a))\n",
    "print(cube)\n"
   ]
  },
  {
   "cell_type": "markdown",
   "id": "be175812-7676-4a35-8f40-25de67b04e7a",
   "metadata": {},
   "source": [
    " # Check if a given number is even"
   ]
  },
  {
   "cell_type": "code",
   "execution_count": 10,
   "id": "0df6fdef-5955-4017-9db5-2230cc2e3ad0",
   "metadata": {},
   "outputs": [
    {
     "name": "stdout",
     "output_type": "stream",
     "text": [
      "[False, False, False, True, True, True, False, True]\n"
     ]
    }
   ],
   "source": [
    "a=[1,23,45,22,10,56,79,100]\n",
    "b=list(map(lambda x: True if x%2==0 else False,a))\n",
    "print(b)"
   ]
  },
  {
   "cell_type": "markdown",
   "id": "d50bb418-df94-46af-914e-8ecfd4728e20",
   "metadata": {},
   "source": [
    "# Filter odd numbers from the given list. [1,2,3,4,5,6,7,8,9,10]\n"
   ]
  },
  {
   "cell_type": "code",
   "execution_count": 2,
   "id": "3ea3368e-68d5-4451-ba93-b5e214fa2d97",
   "metadata": {},
   "outputs": [],
   "source": [
    "l=[1,2,3,4,5,6,7,8,9,10]"
   ]
  },
  {
   "cell_type": "code",
   "execution_count": 3,
   "id": "13e94105-5c31-4e3c-a514-3b644c9132f2",
   "metadata": {},
   "outputs": [
    {
     "data": {
      "text/plain": [
       "[1, 3, 5, 7, 9]"
      ]
     },
     "execution_count": 3,
     "metadata": {},
     "output_type": "execute_result"
    }
   ],
   "source": [
    "list(filter(lambda x: x%2==1 ,l))"
   ]
  },
  {
   "cell_type": "markdown",
   "id": "49ade418-dd8e-427c-bf90-fc4dcdc5537c",
   "metadata": {},
   "source": [
    "# B Sort a list of integers into positive and negative integers lists.[1,2,3,4,5,6,-1,-2,-3,-4,-5,0]\n"
   ]
  },
  {
   "cell_type": "code",
   "execution_count": 16,
   "id": "ecc634f0-389e-4724-8daa-85b7deea0020",
   "metadata": {},
   "outputs": [],
   "source": [
    "a=[1,2,3,4,5,6,-1,-2,-3,-4,-5,0]\n",
    "\n",
    "\n"
   ]
  },
  {
   "cell_type": "code",
   "execution_count": 15,
   "id": "419ec9c9-b849-4bbc-8ded-04938a60adc7",
   "metadata": {},
   "outputs": [
    {
     "data": {
      "text/plain": [
       "[1, 2, 3, 4, 5, 6, 0]"
      ]
     },
     "execution_count": 15,
     "metadata": {},
     "output_type": "execute_result"
    }
   ],
   "source": [
    "list(filter(lambda x: x>=0, a))\n",
    "\n"
   ]
  },
  {
   "cell_type": "code",
   "execution_count": 17,
   "id": "3833b3a1-f97c-4f66-9f80-9a248b0c4859",
   "metadata": {},
   "outputs": [
    {
     "data": {
      "text/plain": [
       "[-1, -2, -3, -4, -5]"
      ]
     },
     "execution_count": 17,
     "metadata": {},
     "output_type": "execute_result"
    }
   ],
   "source": [
    "list(filter(lambda x: x<0 ,a))"
   ]
  },
  {
   "cell_type": "code",
   "execution_count": null,
   "id": "39b42a7f-9824-4a74-bbfa-c263aa6b693d",
   "metadata": {},
   "outputs": [],
   "source": []
  }
 ],
 "metadata": {
  "kernelspec": {
   "display_name": "Python 3 (ipykernel)",
   "language": "python",
   "name": "python3"
  },
  "language_info": {
   "codemirror_mode": {
    "name": "ipython",
    "version": 3
   },
   "file_extension": ".py",
   "mimetype": "text/x-python",
   "name": "python",
   "nbconvert_exporter": "python",
   "pygments_lexer": "ipython3",
   "version": "3.10.8"
  }
 },
 "nbformat": 4,
 "nbformat_minor": 5
}
