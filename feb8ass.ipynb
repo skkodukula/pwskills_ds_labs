{
 "cells": [
  {
   "cell_type": "markdown",
   "id": "663cdf3f-e978-4670-97eb-2548bcab27a5",
   "metadata": {},
   "source": [
    "Q1, Create a vehicle class with an init method having instance variables as name_of_vehicle, max_speed\n",
    "and average_of_vehicle."
   ]
  },
  {
   "cell_type": "code",
   "execution_count": 19,
   "id": "c27b01cd-ffa4-4f0d-9be9-40b03a6e667f",
   "metadata": {},
   "outputs": [
    {
     "name": "stdout",
     "output_type": "stream",
     "text": [
      "vehicle1\n",
      "name: toyota\n",
      "speed: 180\n",
      "average: 12\n"
     ]
    }
   ],
   "source": [
    "class vehicle :\n",
    "    def __init__(self,name,speed,average):\n",
    "        self.name=name\n",
    "        self.speed=speed\n",
    "        self.average=average\n",
    "v=vehicle(\"toyota\",180,12)\n",
    "print(\"vehicle1\")\n",
    "print(\"name:\",v.name)\n",
    "print(\"speed:\",v.speed)\n",
    "print(\"average:\",v.average)\n",
    "\n",
    "    "
   ]
  },
  {
   "cell_type": "markdown",
   "id": "97d0ea7c-93ca-42bd-80bb-18d1dd05df18",
   "metadata": {},
   "source": [
    "Q2. Create a child class car from the vehicle class created in Que 1, which will inherit the vehicle class.\n",
    "Create a method named seating_capacity which takes capacity as an argument and returns the name of\n",
    "the vehicle and its seating capacity."
   ]
  },
  {
   "cell_type": "code",
   "execution_count": 21,
   "id": "40c0f7ff-f2f6-4d51-bca8-46965a582598",
   "metadata": {},
   "outputs": [
    {
     "name": "stdout",
     "output_type": "stream",
     "text": [
      "name: toyota\n",
      "seating_capacity: 30\n"
     ]
    }
   ],
   "source": [
    "class vehicle :\n",
    "    def __init__(self):\n",
    "        pass\n",
    "class car(vehicle):\n",
    "    def __init__(self):\n",
    "        pass\n",
    "class Que_1(car) :\n",
    "    def __init__(self,name,seating_capacity):\n",
    "        self.name=name\n",
    "        self.seating_capacity=seating_capacity\n",
    "information=Que_1(\"toyota\",30)\n",
    "print(\"name:\",information.name)\n",
    "print(\"seating_capacity:\",30)"
   ]
  },
  {
   "cell_type": "markdown",
   "id": "e2d53f11-5f34-4054-b8a5-3af8117feafa",
   "metadata": {},
   "source": [
    "Q3. What is multiple inheritance? Write a python code to demonstrate multiple inheritance."
   ]
  },
  {
   "cell_type": "markdown",
   "id": "cf79226b-d5b9-41b2-8b2c-fa50e25dcf98",
   "metadata": {},
   "source": [
    "A class can be derived from more than one superclass in Python. This is called multiple inheritance."
   ]
  },
  {
   "cell_type": "code",
   "execution_count": 30,
   "id": "fddf7578-84de-455a-998f-8ff53ca4268b",
   "metadata": {},
   "outputs": [
    {
     "name": "stdout",
     "output_type": "stream",
     "text": [
      " School_Name: Vidyaneekethan\n",
      " I am Teaching English \n",
      " I got 1st Rank \n"
     ]
    }
   ],
   "source": [
    "class school():\n",
    "    def building(self):\n",
    "        print(\" School_Name: Vidyaneekethan\")\n",
    "class teacher():\n",
    "    def subject(self):\n",
    "        print(\" I am Teaching English \")\n",
    "class student(school,teacher):\n",
    "    def Rank(self):\n",
    "        print(\" I got 1st Rank \")\n",
    "        \n",
    "S1=student()\n",
    "\n",
    "S1.building()\n",
    "S1.subject()\n",
    "S1.Rank()\n",
    "\n",
    "    \n",
    "    "
   ]
  },
  {
   "cell_type": "markdown",
   "id": "78a283f0-724c-46e7-8812-e5957607b1e4",
   "metadata": {},
   "source": [
    "Q4. What are getter and setter in python? Create a class and create a getter and a setter method in this\n",
    "class."
   ]
  },
  {
   "cell_type": "markdown",
   "id": "a2cb70e1-6fec-4af9-9328-0bbdb5ed0492",
   "metadata": {},
   "source": [
    "Getter and Setter are not same in oops.Basically the main purpose of using getter and setter is for encapusalation.\n",
    "Private variables in python are not actually hidden feilds like in other object oriented languages.\n",
    "We use getter and setter to add validation logic around getting and setting a value.\n",
    "To avoid direct access of a class field.i.e. private variables cannot be accessed directly or modified by external user."
   ]
  },
  {
   "cell_type": "code",
   "execution_count": 4,
   "id": "88c556dc-cc0b-4a38-abd7-c3a5762f132a",
   "metadata": {},
   "outputs": [
    {
     "name": "stdout",
     "output_type": "stream",
     "text": [
      "26\n",
      "26\n"
     ]
    }
   ],
   "source": [
    "class test:\n",
    "    def __init__(self,age=10):\n",
    "        self.age=age\n",
    "    def get_age(self):\n",
    "        return self.age\n",
    "    def set_age(self,x):\n",
    "        self.age=x\n",
    "k=test()\n",
    "k.set_age(26)\n",
    "print(k.get_age())\n",
    "print(k.age)"
   ]
  },
  {
   "cell_type": "markdown",
   "id": "0ec81f7c-7b1c-48d5-a46b-8ed7965ca2be",
   "metadata": {},
   "source": [
    "Q5.What is method overriding in python? Write a python code to demonstrate method overriding."
   ]
  },
  {
   "cell_type": "markdown",
   "id": "087cdc50-f93f-44ee-ac15-13b23f3f386c",
   "metadata": {},
   "source": [
    "Method overriding is a feature ob object_oriented programming languages where the subclass or child\n",
    "class can provide the programm with specific characteristics ora specific implementation process of data provided that are already defined \n",
    "in the parent class or super class"
   ]
  },
  {
   "cell_type": "code",
   "execution_count": 8,
   "id": "7dc104e9-f824-4bad-a1f0-1357181e4b5a",
   "metadata": {},
   "outputs": [
    {
     "name": "stdout",
     "output_type": "stream",
     "text": [
      "Father\n",
      "Mother\n"
     ]
    }
   ],
   "source": [
    "class parent():\n",
    "    def __init__(self):\n",
    "        self.value=\"Father\"\n",
    "    def son(self):\n",
    "        print(self.value)\n",
    "class grandparent(parent):\n",
    "    def __init__(self):\n",
    "        self.value=\"Mother\"\n",
    "    def son(self):\n",
    "        print(self.value)\n",
    "A=parent()\n",
    "B=grandparent()\n",
    "A.son()\n",
    "B.son()"
   ]
  },
  {
   "cell_type": "code",
   "execution_count": 3,
   "id": "e77513cc-e3db-4f5c-a817-d7096bb39b59",
   "metadata": {},
   "outputs": [
    {
     "name": "stdout",
     "output_type": "stream",
     "text": [
      "Mother_name: KV\n",
      "Child_name: KVNS\n"
     ]
    }
   ],
   "source": [
    "class parent():\n",
    "    def father(self):\n",
    "        print(\"Father_name: KSR\")\n",
    "class parent2():\n",
    "    def mother(self):\n",
    "        print(\"Mother_name: KV\")\n",
    "class child(parent,parent2):\n",
    "    def father(self):\n",
    "        print(\"Child_name: KVNS\")\n",
    "A=child()\n",
    "A.mother()\n",
    "A.father()\n",
    "              "
   ]
  },
  {
   "cell_type": "code",
   "execution_count": null,
   "id": "51c3be44-5d4c-459d-8269-baf144a8996a",
   "metadata": {},
   "outputs": [],
   "source": []
  }
 ],
 "metadata": {
  "kernelspec": {
   "display_name": "Python 3 (ipykernel)",
   "language": "python",
   "name": "python3"
  },
  "language_info": {
   "codemirror_mode": {
    "name": "ipython",
    "version": 3
   },
   "file_extension": ".py",
   "mimetype": "text/x-python",
   "name": "python",
   "nbconvert_exporter": "python",
   "pygments_lexer": "ipython3",
   "version": "3.10.8"
  }
 },
 "nbformat": 4,
 "nbformat_minor": 5
}
